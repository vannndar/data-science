{
 "cells": [
  {
   "cell_type": "markdown",
   "metadata": {},
   "source": [
    "# Nvidia Stock Analysis"
   ]
  },
  {
   "cell_type": "markdown",
   "metadata": {},
   "source": [
    "At this notebook, we will analyze the Nvidia stock data. We will use the data from kaggle dataset [Nvidia Stock Data](https://www.kaggle.com/datasets/muhammaddawood42/nvidia-stock-data) to analyze the stock data. We will use the data all data from 2018 - 2024 to analyze the stock data."
   ]
  },
  {
   "cell_type": "markdown",
   "metadata": {},
   "source": [
    "# Download and Import Dataset"
   ]
  },
  {
   "cell_type": "markdown",
   "metadata": {},
   "source": [
    "We will download the dataset from kaggle and import the dataset to the notebook using kagglehub."
   ]
  },
  {
   "cell_type": "code",
   "execution_count": 61,
   "metadata": {},
   "outputs": [
    {
     "name": "stdout",
     "output_type": "stream",
     "text": [
      "Path to dataset files: C:\\Users\\thari\\.cache\\kagglehub\\datasets\\muhammaddawood42\\nvidia-stock-data\\versions\\1\n"
     ]
    }
   ],
   "source": [
    "import kagglehub\n",
    "\n",
    "# Download latest version\n",
    "path = kagglehub.dataset_download(\"muhammaddawood42/nvidia-stock-data\")\n",
    "\n",
    "print(\"Path to dataset files:\", path)"
   ]
  },
  {
   "cell_type": "code",
   "execution_count": 62,
   "metadata": {},
   "outputs": [],
   "source": [
    "import pandas as pd\n",
    "\n",
    "dataset = pd.read_csv(\"data/NVIDIA_STOCK.csv\")\n"
   ]
  },
  {
   "cell_type": "code",
   "execution_count": 63,
   "metadata": {},
   "outputs": [
    {
     "data": {
      "text/html": [
       "<div>\n",
       "<style scoped>\n",
       "    .dataframe tbody tr th:only-of-type {\n",
       "        vertical-align: middle;\n",
       "    }\n",
       "\n",
       "    .dataframe tbody tr th {\n",
       "        vertical-align: top;\n",
       "    }\n",
       "\n",
       "    .dataframe thead th {\n",
       "        text-align: right;\n",
       "    }\n",
       "</style>\n",
       "<table border=\"1\" class=\"dataframe\">\n",
       "  <thead>\n",
       "    <tr style=\"text-align: right;\">\n",
       "      <th></th>\n",
       "      <th>Price</th>\n",
       "      <th>Adj Close</th>\n",
       "      <th>Close</th>\n",
       "      <th>High</th>\n",
       "      <th>Low</th>\n",
       "      <th>Open</th>\n",
       "      <th>Volume</th>\n",
       "    </tr>\n",
       "  </thead>\n",
       "  <tbody>\n",
       "    <tr>\n",
       "      <th>0</th>\n",
       "      <td>Ticker</td>\n",
       "      <td>NVDA</td>\n",
       "      <td>NVDA</td>\n",
       "      <td>NVDA</td>\n",
       "      <td>NVDA</td>\n",
       "      <td>NVDA</td>\n",
       "      <td>NVDA</td>\n",
       "    </tr>\n",
       "    <tr>\n",
       "      <th>1</th>\n",
       "      <td>Date</td>\n",
       "      <td>NaN</td>\n",
       "      <td>NaN</td>\n",
       "      <td>NaN</td>\n",
       "      <td>NaN</td>\n",
       "      <td>NaN</td>\n",
       "      <td>NaN</td>\n",
       "    </tr>\n",
       "    <tr>\n",
       "      <th>2</th>\n",
       "      <td>2018-01-02</td>\n",
       "      <td>4.929879665374756</td>\n",
       "      <td>4.983749866485596</td>\n",
       "      <td>4.987500190734863</td>\n",
       "      <td>4.862500190734863</td>\n",
       "      <td>4.894499778747559</td>\n",
       "      <td>355616000</td>\n",
       "    </tr>\n",
       "    <tr>\n",
       "      <th>3</th>\n",
       "      <td>2018-01-03</td>\n",
       "      <td>5.254334926605225</td>\n",
       "      <td>5.3117499351501465</td>\n",
       "      <td>5.34250020980835</td>\n",
       "      <td>5.09375</td>\n",
       "      <td>5.102499961853027</td>\n",
       "      <td>914704000</td>\n",
       "    </tr>\n",
       "    <tr>\n",
       "      <th>4</th>\n",
       "      <td>2018-01-04</td>\n",
       "      <td>5.2820329666137695</td>\n",
       "      <td>5.339749813079834</td>\n",
       "      <td>5.451250076293945</td>\n",
       "      <td>5.317249774932861</td>\n",
       "      <td>5.394000053405762</td>\n",
       "      <td>583268000</td>\n",
       "    </tr>\n",
       "  </tbody>\n",
       "</table>\n",
       "</div>"
      ],
      "text/plain": [
       "        Price           Adj Close               Close               High  \\\n",
       "0      Ticker                NVDA                NVDA               NVDA   \n",
       "1        Date                 NaN                 NaN                NaN   \n",
       "2  2018-01-02   4.929879665374756   4.983749866485596  4.987500190734863   \n",
       "3  2018-01-03   5.254334926605225  5.3117499351501465   5.34250020980835   \n",
       "4  2018-01-04  5.2820329666137695   5.339749813079834  5.451250076293945   \n",
       "\n",
       "                 Low               Open     Volume  \n",
       "0               NVDA               NVDA       NVDA  \n",
       "1                NaN                NaN        NaN  \n",
       "2  4.862500190734863  4.894499778747559  355616000  \n",
       "3            5.09375  5.102499961853027  914704000  \n",
       "4  5.317249774932861  5.394000053405762  583268000  "
      ]
     },
     "execution_count": 63,
     "metadata": {},
     "output_type": "execute_result"
    }
   ],
   "source": [
    "dataset.head()"
   ]
  },
  {
   "cell_type": "markdown",
   "metadata": {},
   "source": [
    "From data above we need to delete frist two rows because it is not needed for the analysis and change Price coloumn name to Date"
   ]
  },
  {
   "cell_type": "code",
   "execution_count": 64,
   "metadata": {},
   "outputs": [],
   "source": [
    "dataset = dataset[2:]\n",
    "dataset = dataset.rename(columns={'Price': 'Date'})\n",
    "dataset['Date'] = pd.to_datetime(dataset['Date'])\n",
    "dataset.index = dataset['Date']\n",
    "dataset = dataset.drop(columns=['Date'])"
   ]
  },
  {
   "cell_type": "code",
   "execution_count": 65,
   "metadata": {},
   "outputs": [
    {
     "data": {
      "text/html": [
       "<div>\n",
       "<style scoped>\n",
       "    .dataframe tbody tr th:only-of-type {\n",
       "        vertical-align: middle;\n",
       "    }\n",
       "\n",
       "    .dataframe tbody tr th {\n",
       "        vertical-align: top;\n",
       "    }\n",
       "\n",
       "    .dataframe thead th {\n",
       "        text-align: right;\n",
       "    }\n",
       "</style>\n",
       "<table border=\"1\" class=\"dataframe\">\n",
       "  <thead>\n",
       "    <tr style=\"text-align: right;\">\n",
       "      <th></th>\n",
       "      <th>Adj Close</th>\n",
       "      <th>Close</th>\n",
       "      <th>High</th>\n",
       "      <th>Low</th>\n",
       "      <th>Open</th>\n",
       "      <th>Volume</th>\n",
       "    </tr>\n",
       "    <tr>\n",
       "      <th>Date</th>\n",
       "      <th></th>\n",
       "      <th></th>\n",
       "      <th></th>\n",
       "      <th></th>\n",
       "      <th></th>\n",
       "      <th></th>\n",
       "    </tr>\n",
       "  </thead>\n",
       "  <tbody>\n",
       "    <tr>\n",
       "      <th>2018-01-02</th>\n",
       "      <td>4.929879665374756</td>\n",
       "      <td>4.983749866485596</td>\n",
       "      <td>4.987500190734863</td>\n",
       "      <td>4.862500190734863</td>\n",
       "      <td>4.894499778747559</td>\n",
       "      <td>355616000</td>\n",
       "    </tr>\n",
       "    <tr>\n",
       "      <th>2018-01-03</th>\n",
       "      <td>5.254334926605225</td>\n",
       "      <td>5.3117499351501465</td>\n",
       "      <td>5.34250020980835</td>\n",
       "      <td>5.09375</td>\n",
       "      <td>5.102499961853027</td>\n",
       "      <td>914704000</td>\n",
       "    </tr>\n",
       "    <tr>\n",
       "      <th>2018-01-04</th>\n",
       "      <td>5.2820329666137695</td>\n",
       "      <td>5.339749813079834</td>\n",
       "      <td>5.451250076293945</td>\n",
       "      <td>5.317249774932861</td>\n",
       "      <td>5.394000053405762</td>\n",
       "      <td>583268000</td>\n",
       "    </tr>\n",
       "    <tr>\n",
       "      <th>2018-01-05</th>\n",
       "      <td>5.326793670654297</td>\n",
       "      <td>5.385000228881836</td>\n",
       "      <td>5.422749996185303</td>\n",
       "      <td>5.2769999504089355</td>\n",
       "      <td>5.354750156402588</td>\n",
       "      <td>580124000</td>\n",
       "    </tr>\n",
       "    <tr>\n",
       "      <th>2018-01-08</th>\n",
       "      <td>5.490012168884277</td>\n",
       "      <td>5.550000190734863</td>\n",
       "      <td>5.625</td>\n",
       "      <td>5.4644999504089355</td>\n",
       "      <td>5.510000228881836</td>\n",
       "      <td>881216000</td>\n",
       "    </tr>\n",
       "  </tbody>\n",
       "</table>\n",
       "</div>"
      ],
      "text/plain": [
       "                     Adj Close               Close               High  \\\n",
       "Date                                                                    \n",
       "2018-01-02   4.929879665374756   4.983749866485596  4.987500190734863   \n",
       "2018-01-03   5.254334926605225  5.3117499351501465   5.34250020980835   \n",
       "2018-01-04  5.2820329666137695   5.339749813079834  5.451250076293945   \n",
       "2018-01-05   5.326793670654297   5.385000228881836  5.422749996185303   \n",
       "2018-01-08   5.490012168884277   5.550000190734863              5.625   \n",
       "\n",
       "                           Low               Open     Volume  \n",
       "Date                                                          \n",
       "2018-01-02   4.862500190734863  4.894499778747559  355616000  \n",
       "2018-01-03             5.09375  5.102499961853027  914704000  \n",
       "2018-01-04   5.317249774932861  5.394000053405762  583268000  \n",
       "2018-01-05  5.2769999504089355  5.354750156402588  580124000  \n",
       "2018-01-08  5.4644999504089355  5.510000228881836  881216000  "
      ]
     },
     "execution_count": 65,
     "metadata": {},
     "output_type": "execute_result"
    }
   ],
   "source": [
    "dataset.head()"
   ]
  },
  {
   "cell_type": "markdown",
   "metadata": {},
   "source": [
    "# EDA"
   ]
  },
  {
   "cell_type": "code",
   "execution_count": 66,
   "metadata": {},
   "outputs": [
    {
     "name": "stdout",
     "output_type": "stream",
     "text": [
      "<class 'pandas.core.frame.DataFrame'>\n",
      "DatetimeIndex: 1697 entries, 2018-01-02 to 2024-09-30\n",
      "Data columns (total 6 columns):\n",
      " #   Column     Non-Null Count  Dtype \n",
      "---  ------     --------------  ----- \n",
      " 0   Adj Close  1697 non-null   object\n",
      " 1   Close      1697 non-null   object\n",
      " 2   High       1697 non-null   object\n",
      " 3   Low        1697 non-null   object\n",
      " 4   Open       1697 non-null   object\n",
      " 5   Volume     1697 non-null   object\n",
      "dtypes: object(6)\n",
      "memory usage: 92.8+ KB\n"
     ]
    }
   ],
   "source": [
    "dataset.info()"
   ]
  },
  {
   "cell_type": "code",
   "execution_count": 67,
   "metadata": {},
   "outputs": [],
   "source": [
    "# change the data type of the Date column\n",
    "dataset['Adj Close'] = pd.to_numeric(dataset['Adj Close'])\n",
    "dataset['Close'] = pd.to_numeric(dataset['Close'])\n",
    "dataset['High'] = pd.to_numeric(dataset['High'])\n",
    "dataset['Low'] = pd.to_numeric(dataset['Low'])\n",
    "dataset['Open'] = pd.to_numeric(dataset['Open'])\n",
    "dataset['Volume'] = pd.to_numeric(dataset['Volume'])"
   ]
  },
  {
   "cell_type": "code",
   "execution_count": 68,
   "metadata": {},
   "outputs": [
    {
     "data": {
      "text/html": [
       "<div>\n",
       "<style scoped>\n",
       "    .dataframe tbody tr th:only-of-type {\n",
       "        vertical-align: middle;\n",
       "    }\n",
       "\n",
       "    .dataframe tbody tr th {\n",
       "        vertical-align: top;\n",
       "    }\n",
       "\n",
       "    .dataframe thead th {\n",
       "        text-align: right;\n",
       "    }\n",
       "</style>\n",
       "<table border=\"1\" class=\"dataframe\">\n",
       "  <thead>\n",
       "    <tr style=\"text-align: right;\">\n",
       "      <th></th>\n",
       "      <th>Adj Close</th>\n",
       "      <th>Close</th>\n",
       "      <th>High</th>\n",
       "      <th>Low</th>\n",
       "      <th>Open</th>\n",
       "      <th>Volume</th>\n",
       "    </tr>\n",
       "  </thead>\n",
       "  <tbody>\n",
       "    <tr>\n",
       "      <th>count</th>\n",
       "      <td>1697.000000</td>\n",
       "      <td>1697.000000</td>\n",
       "      <td>1697.000000</td>\n",
       "      <td>1697.000000</td>\n",
       "      <td>1697.000000</td>\n",
       "      <td>1.697000e+03</td>\n",
       "    </tr>\n",
       "    <tr>\n",
       "      <th>mean</th>\n",
       "      <td>24.797593</td>\n",
       "      <td>24.828411</td>\n",
       "      <td>25.295239</td>\n",
       "      <td>24.315422</td>\n",
       "      <td>24.823341</td>\n",
       "      <td>4.716865e+08</td>\n",
       "    </tr>\n",
       "    <tr>\n",
       "      <th>std</th>\n",
       "      <td>29.221442</td>\n",
       "      <td>29.216014</td>\n",
       "      <td>29.811740</td>\n",
       "      <td>28.570804</td>\n",
       "      <td>29.240504</td>\n",
       "      <td>2.093254e+08</td>\n",
       "    </tr>\n",
       "    <tr>\n",
       "      <th>min</th>\n",
       "      <td>3.151430</td>\n",
       "      <td>3.177000</td>\n",
       "      <td>3.249500</td>\n",
       "      <td>3.111500</td>\n",
       "      <td>3.162250</td>\n",
       "      <td>9.788400e+07</td>\n",
       "    </tr>\n",
       "    <tr>\n",
       "      <th>25%</th>\n",
       "      <td>6.113620</td>\n",
       "      <td>6.161750</td>\n",
       "      <td>6.250000</td>\n",
       "      <td>6.064250</td>\n",
       "      <td>6.166250</td>\n",
       "      <td>3.278440e+08</td>\n",
       "    </tr>\n",
       "    <tr>\n",
       "      <th>50%</th>\n",
       "      <td>13.985092</td>\n",
       "      <td>14.015750</td>\n",
       "      <td>14.243500</td>\n",
       "      <td>13.750000</td>\n",
       "      <td>14.033750</td>\n",
       "      <td>4.349650e+08</td>\n",
       "    </tr>\n",
       "    <tr>\n",
       "      <th>75%</th>\n",
       "      <td>27.088902</td>\n",
       "      <td>27.104000</td>\n",
       "      <td>27.496000</td>\n",
       "      <td>26.613001</td>\n",
       "      <td>27.077999</td>\n",
       "      <td>5.708320e+08</td>\n",
       "    </tr>\n",
       "    <tr>\n",
       "      <th>max</th>\n",
       "      <td>135.559067</td>\n",
       "      <td>135.580002</td>\n",
       "      <td>140.759995</td>\n",
       "      <td>132.419998</td>\n",
       "      <td>139.800003</td>\n",
       "      <td>2.511528e+09</td>\n",
       "    </tr>\n",
       "  </tbody>\n",
       "</table>\n",
       "</div>"
      ],
      "text/plain": [
       "         Adj Close        Close         High          Low         Open  \\\n",
       "count  1697.000000  1697.000000  1697.000000  1697.000000  1697.000000   \n",
       "mean     24.797593    24.828411    25.295239    24.315422    24.823341   \n",
       "std      29.221442    29.216014    29.811740    28.570804    29.240504   \n",
       "min       3.151430     3.177000     3.249500     3.111500     3.162250   \n",
       "25%       6.113620     6.161750     6.250000     6.064250     6.166250   \n",
       "50%      13.985092    14.015750    14.243500    13.750000    14.033750   \n",
       "75%      27.088902    27.104000    27.496000    26.613001    27.077999   \n",
       "max     135.559067   135.580002   140.759995   132.419998   139.800003   \n",
       "\n",
       "             Volume  \n",
       "count  1.697000e+03  \n",
       "mean   4.716865e+08  \n",
       "std    2.093254e+08  \n",
       "min    9.788400e+07  \n",
       "25%    3.278440e+08  \n",
       "50%    4.349650e+08  \n",
       "75%    5.708320e+08  \n",
       "max    2.511528e+09  "
      ]
     },
     "execution_count": 68,
     "metadata": {},
     "output_type": "execute_result"
    }
   ],
   "source": [
    "dataset.describe()"
   ]
  },
  {
   "cell_type": "markdown",
   "metadata": {},
   "source": [
    "From `.info()` we can see that there are 7 column and 1697 rows. There are no missing values in the dataset.\n",
    "\n",
    "From `.describe()` we can see that the data is from 2018-2024. For column `Adj Close`, `Close`, `High, Low`, and `Open` we can see that the data is almost the same. For the `Volume` that traded we can see some different from min and max value. Which means that the volume that traded is different from day to day.\n"
   ]
  },
  {
   "cell_type": "markdown",
   "metadata": {},
   "source": [
    "## 1. Price Changes Over Time"
   ]
  },
  {
   "cell_type": "markdown",
   "metadata": {},
   "source": [
    "We will plot the stock price over time. We will plot the `Adj Close` and `Close` over time. From the plot, Price for NVIDIA is quite stable from 2018-2021. In 2021, the price is increasing and in 2022 the price is decreasing. From 2023 the price is increasing significantly. In 2024 the price is moving up and down with a significant increase in the price."
   ]
  },
  {
   "cell_type": "code",
   "execution_count": 70,
   "metadata": {},
   "outputs": [
    {
     "data": {
      "image/png": "[encoded data removed]",
      "text/plain": [
       "<Figure size 1500x700 with 2 Axes>"
      ]
     },
     "metadata": {},
     "output_type": "display_data"
    }
   ],
   "source": [
    "import matplotlib.pyplot as plt\n",
    "import seaborn as sns\n",
    "\n",
    "fig, axes = plt.subplots(2, 1, figsize=(15, 7))\n",
    "fig.suptitle('NVIDIA Stock Data Close Price')\n",
    "\n",
    "sns.lineplot(ax=axes[0], x=dataset.index, y=dataset['Close'])\n",
    "axes[0].set_title('Close Price')\n",
    "sns.lineplot(ax=axes[1], x=dataset.index, y=dataset['Adj Close'])\n",
    "axes[1].set_title('Adjusted Close Price')\n",
    "\n",
    "plt.tight_layout(rect=[0, 0, 1, 0.95])\n",
    "sns.set_theme(style='whitegrid')\n",
    "\n",
    "plt.show()"
   ]
  },
  {
   "cell_type": "markdown",
   "metadata": {},
   "source": [
    "## 2. Distribution of the data"
   ]
  },
  {
   "cell_type": "markdown",
   "metadata": {},
   "source": [
    "Distribution of the data can be seen from the histogram plot. From all the data we can see that all data have the same distribution except for the `Volume` data. "
   ]
  },
  {
   "cell_type": "code",
   "execution_count": 26,
   "metadata": {},
   "outputs": [
    {
     "data": {
      "image/png": "[encoded data removed]",
      "text/plain": [
       "<Figure size 2000x1000 with 6 Axes>"
      ]
     },
     "metadata": {},
     "output_type": "display_data"
    }
   ],
   "source": [
    "import matplotlib.pyplot as plt\n",
    "import seaborn as sns\n",
    "\n",
    "fig, axes = plt.subplots(2, 3, figsize=(20, 10))\n",
    "fig.suptitle('Distribution of Stock Price Data')\n",
    "\n",
    "columns = ['Adj Close', 'Close', 'High', 'Low', 'Open', 'Volume']\n",
    "for ax, col in zip(axes.flat, columns):\n",
    "    sns.histplot(dataset[col], kde=True, ax=ax)\n",
    "    ax.set_title(col)\n",
    "\n",
    "plt.tight_layout(rect=[0, 0, 1, 0.95])\n",
    "plt.show()\n"
   ]
  },
  {
   "cell_type": "markdown",
   "metadata": {},
   "source": [
    "## 3. Correlation of volume and close price for every DATE"
   ]
  },
  {
   "cell_type": "markdown",
   "metadata": {},
   "source": [
    "There is no correlation reflecting between the volume and the close price. The correlation is -0.11 which means that there is no correlation between the volume and the close price. From the comparison of normalized data we can see that changes in volume do not affect changes in closing prices in a definable pattern."
   ]
  },
  {
   "cell_type": "code",
   "execution_count": 27,
   "metadata": {},
   "outputs": [
    {
     "data": {
      "image/png": "[encoded data removed]",
      "text/plain": [
       "<Figure size 1200x800 with 2 Axes>"
      ]
     },
     "metadata": {},
     "output_type": "display_data"
    }
   ],
   "source": [
    "# heatmap of correlation matrix\n",
    "plt.figure(figsize=(12, 8))\n",
    "sns.heatmap(dataset.corr(), annot=True, cmap='coolwarm', fmt='.2f')\n",
    "plt.title('Correlation Matrix')\n",
    "\n",
    "plt.show()"
   ]
  },
  {
   "cell_type": "code",
   "execution_count": 74,
   "metadata": {},
   "outputs": [
    {
     "name": "stderr",
     "output_type": "stream",
     "text": [
      "C:\\Users\\thari\\AppData\\Local\\Temp\\ipykernel_17000\\2755939465.py:6: SettingWithCopyWarning:\n",
      "\n",
      "\n",
      "A value is trying to be set on a copy of a slice from a DataFrame.\n",
      "Try using .loc[row_indexer,col_indexer] = value instead\n",
      "\n",
      "See the caveats in the documentation: https://pandas.pydata.org/pandas-docs/stable/user_guide/indexing.html#returning-a-view-versus-a-copy\n",
      "\n",
      "C:\\Users\\thari\\AppData\\Local\\Temp\\ipykernel_17000\\2755939465.py:7: SettingWithCopyWarning:\n",
      "\n",
      "\n",
      "A value is trying to be set on a copy of a slice from a DataFrame.\n",
      "Try using .loc[row_indexer,col_indexer] = value instead\n",
      "\n",
      "See the caveats in the documentation: https://pandas.pydata.org/pandas-docs/stable/user_guide/indexing.html#returning-a-view-versus-a-copy\n",
      "\n"
     ]
    },
    {
     "data": {
      "application/vnd.plotly.v1+json": {
       "config": {
        "plotlyServerURL": "https://plot.ly"
       },
       "data": [
        {
         "hovertemplate": "variable=Volume<br>Date=%{x}<br>value=%{y}<extra></extra>",
         "legendgroup": "Volume",
         "line": {
          "color": "#636efa",
          "dash": "solid"
         },
         "marker": {
          "symbol": "circle"
         },
         "mode": "lines",
         "name": "Volume",
         "orientation": "v",
         "showlegend": true,
         "type": "scatter",
         "x": [
          "2024-01-02T00:00:00",
          "2024-01-03T00:00:00",
          "2024-01-04T00:00:00",
          "2024-01-05T00:00:00",
          "2024-01-08T00:00:00",
          "2024-01-09T00:00:00",
          "2024-01-10T00:00:00",
          "2024-01-11T00:00:00",
          "2024-01-12T00:00:00",
          "2024-01-16T00:00:00",
          "2024-01-17T00:00:00",
          "2024-01-18T00:00:00",
          "2024-01-19T00:00:00",
          "2024-01-22T00:00:00",
          "2024-01-23T00:00:00",
          "2024-01-24T00:00:00",
          "2024-01-25T00:00:00",
          "2024-01-26T00:00:00",
          "2024-01-29T00:00:00",
          "2024-01-30T00:00:00",
          "2024-01-31T00:00:00",
          "2024-02-01T00:00:00",
          "2024-02-02T00:00:00",
          "2024-02-05T00:00:00",
          "2024-02-06T00:00:00",
          "2024-02-07T00:00:00",
          "2024-02-08T00:00:00",
          "2024-02-09T00:00:00",
          "2024-02-12T00:00:00",
          "2024-02-13T00:00:00",
          "2024-02-14T00:00:00",
          "2024-02-15T00:00:00",
          "2024-02-16T00:00:00",
          "2024-02-20T00:00:00",
          "2024-02-21T00:00:00",
          "2024-02-22T00:00:00",
          "2024-02-23T00:00:00",
          "2024-02-26T00:00:00",
          "2024-02-27T00:00:00",
          "2024-02-28T00:00:00",
          "2024-02-29T00:00:00",
          "2024-03-01T00:00:00",
          "2024-03-04T00:00:00",
          "2024-03-05T00:00:00",
          "2024-03-06T00:00:00",
          "2024-03-07T00:00:00",
          "2024-03-08T00:00:00",
          "2024-03-11T00:00:00",
          "2024-03-12T00:00:00",
          "2024-03-13T00:00:00",
          "2024-03-14T00:00:00",
          "2024-03-15T00:00:00",
          "2024-03-18T00:00:00",
          "2024-03-19T00:00:00",
          "2024-03-20T00:00:00",
          "2024-03-21T00:00:00",
          "2024-03-22T00:00:00",
          "2024-03-25T00:00:00",
          "2024-03-26T00:00:00",
          "2024-03-27T00:00:00",
          "2024-03-28T00:00:00",
          "2024-04-01T00:00:00",
          "2024-04-02T00:00:00",
          "2024-04-03T00:00:00",
          "2024-04-04T00:00:00",
          "2024-04-05T00:00:00",
          "2024-04-08T00:00:00",
          "2024-04-09T00:00:00",
          "2024-04-10T00:00:00",
          "2024-04-11T00:00:00",
          "2024-04-12T00:00:00",
          "2024-04-15T00:00:00",
          "2024-04-16T00:00:00",
          "2024-04-17T00:00:00",
          "2024-04-18T00:00:00",
          "2024-04-19T00:00:00",
          "2024-04-22T00:00:00",
          "2024-04-23T00:00:00",
          "2024-04-24T00:00:00",
          "2024-04-25T00:00:00",
          "2024-04-26T00:00:00",
          "2024-04-29T00:00:00",
          "2024-04-30T00:00:00",
          "2024-05-01T00:00:00",
          "2024-05-02T00:00:00",
          "2024-05-03T00:00:00",
          "2024-05-06T00:00:00",
          "2024-05-07T00:00:00",
          "2024-05-08T00:00:00",
          "2024-05-09T00:00:00",
          "2024-05-10T00:00:00",
          "2024-05-13T00:00:00",
          "2024-05-14T00:00:00",
          "2024-05-15T00:00:00",
          "2024-05-16T00:00:00",
          "2024-05-17T00:00:00",
          "2024-05-20T00:00:00",
          "2024-05-21T00:00:00",
          "2024-05-22T00:00:00",
          "2024-05-23T00:00:00",
          "2024-05-24T00:00:00",
          "2024-05-28T00:00:00",
          "2024-05-29T00:00:00",
          "2024-05-30T00:00:00",
          "2024-05-31T00:00:00",
          "2024-06-03T00:00:00",
          "2024-06-04T00:00:00",
          "2024-06-05T00:00:00",
          "2024-06-06T00:00:00",
          "2024-06-07T00:00:00",
          "2024-06-10T00:00:00",
          "2024-06-11T00:00:00",
          "2024-06-12T00:00:00",
          "2024-06-13T00:00:00",
          "2024-06-14T00:00:00",
          "2024-06-17T00:00:00",
          "2024-06-18T00:00:00",
          "2024-06-20T00:00:00",
          "2024-06-21T00:00:00",
          "2024-06-24T00:00:00",
          "2024-06-25T00:00:00",
          "2024-06-26T00:00:00",
          "2024-06-27T00:00:00",
          "2024-06-28T00:00:00",
          "2024-07-01T00:00:00",
          "2024-07-02T00:00:00",
          "2024-07-03T00:00:00",
          "2024-07-05T00:00:00",
          "2024-07-08T00:00:00",
          "2024-07-09T00:00:00",
          "2024-07-10T00:00:00",
          "2024-07-11T00:00:00",
          "2024-07-12T00:00:00",
          "2024-07-15T00:00:00",
          "2024-07-16T00:00:00",
          "2024-07-17T00:00:00",
          "2024-07-18T00:00:00",
          "2024-07-19T00:00:00",
          "2024-07-22T00:00:00",
          "2024-07-23T00:00:00",
          "2024-07-24T00:00:00",
          "2024-07-25T00:00:00",
          "2024-07-26T00:00:00",
          "2024-07-29T00:00:00",
          "2024-07-30T00:00:00",
          "2024-07-31T00:00:00",
          "2024-08-01T00:00:00",
          "2024-08-02T00:00:00",
          "2024-08-05T00:00:00",
          "2024-08-06T00:00:00",
          "2024-08-07T00:00:00",
          "2024-08-08T00:00:00",
          "2024-08-09T00:00:00",
          "2024-08-12T00:00:00",
          "2024-08-13T00:00:00",
          "2024-08-14T00:00:00",
          "2024-08-15T00:00:00",
          "2024-08-16T00:00:00",
          "2024-08-19T00:00:00",
          "2024-08-20T00:00:00",
          "2024-08-21T00:00:00",
          "2024-08-22T00:00:00",
          "2024-08-23T00:00:00",
          "2024-08-26T00:00:00",
          "2024-08-27T00:00:00",
          "2024-08-28T00:00:00",
          "2024-08-29T00:00:00",
          "2024-08-30T00:00:00",
          "2024-09-03T00:00:00",
          "2024-09-04T00:00:00",
          "2024-09-05T00:00:00",
          "2024-09-06T00:00:00",
          "2024-09-09T00:00:00",
          "2024-09-10T00:00:00",
          "2024-09-11T00:00:00",
          "2024-09-12T00:00:00",
          "2024-09-13T00:00:00",
          "2024-09-16T00:00:00",
          "2024-09-17T00:00:00",
          "2024-09-18T00:00:00",
          "2024-09-19T00:00:00",
          "2024-09-20T00:00:00",
          "2024-09-23T00:00:00",
          "2024-09-24T00:00:00",
          "2024-09-25T00:00:00",
          "2024-09-26T00:00:00",
          "2024-09-27T00:00:00",
          "2024-09-30T00:00:00"
         ],
         "xaxis": "x",
         "y": [
          0.24509840368954458,
          0.15178787184078615,
          0.1369576127837019,
          0.24900708209154052,
          0.4839109089820087,
          0.618768058920358,
          0.3716445777284847,
          0.43666495242461983,
          0.18493470390083006,
          0.28467674145305766,
          0.3103015620256145,
          0.3281214179053614,
          0.3816666976469446,
          0.2881620227230012,
          0.12468839003756875,
          0.3989846730238197,
          0.3189584843621884,
          0.22346900629725783,
          0.1805344717552806,
          0.24456244488092213,
          0.28902947050574274,
          0.20161448555183104,
          0.3125569262607424,
          0.5227064783891908,
          0.5258385844904467,
          0.33217467093781433,
          0.24836992104159825,
          0.2713108168673156,
          0.45416984214515704,
          0.4426761590238321,
          0.3418219294930181,
          0.2542561738530585,
          0.3319185673067192,
          0.5482703710817693,
          0.5332604264125458,
          0.7137742446491897,
          0.6768953217714936,
          0.3408470834133657,
          0.22491062189809968,
          0.22636153158232802,
          0.344271436803331,
          0.3151974786184448,
          0.4561381224712348,
          0.35805766049332993,
          0.42196067983121943,
          0.44839615101026686,
          1,
          0.5209364718420254,
          0.5103112691793737,
          0.47689181067332537,
          0.4424055979296913,
          0.48347305438691063,
          0.5112417101939571,
          0.5145411097961704,
          0.3151231259513527,
          0.3164748987461249,
          0.42629688606899513,
          0.3905838543183409,
          0.3508382230538706,
          0.42562358136143863,
          0.26983925366445055,
          0.28763122729403795,
          0.2676210657628687,
          0.20256558008505118,
          0.26958418270928725,
          0.23314414710262113,
          0.1128807734329659,
          0.34040716346640393,
          0.2664489785802358,
          0.26614743720814,
          0.26115754710551264,
          0.2779612498683338,
          0.20296419299473956,
          0.3319939526497432,
          0.28228093329120013,
          0.7242022062088608,
          0.4362332938851127,
          0.2732956200083027,
          0.349351169712028,
          0.2589228363890214,
          0.3894220938950264,
          0.22208728590046242,
          0.19599982651044345,
          0.39856334124363096,
          0.21065246530725207,
          0.23176345938175757,
          0.20890207960279153,
          0.2720388533992594,
          0.15677053321189063,
          0.21077122303941312,
          0.1666883528612352,
          0.11955185995262083,
          0.12660193853925925,
          0.251791176403768,
          0.1549437294884743,
          0.19185053461632992,
          0.14958620675411366,
          0.16010091309205893,
          0.3869818806681,
          0.6827578230365217,
          0.2639344126862173,
          0.49446279165350004,
          0.39606323281265815,
          0.3236809113984704,
          0.45370823600362675,
          0.27312316312768625,
          0.236909283550092,
          0.36607432375216603,
          0.5068218572057028,
          0.24626739284438193,
          0.1448345549889607,
          0.05022956385964695,
          0.12979084181676612,
          0.0896295584897321,
          0.13983402832423547,
          0.11833784612715545,
          0.12435906968290653,
          0.35509326096340404,
          0.49730956939478993,
          0.3120229295363905,
          0.2601067993448704,
          0.1952427717848151,
          0.08123101167130338,
          0.14623279820066545,
          0.1146006951974373,
          0.04591586995718525,
          0.043205095636118046,
          0.04158141926849368,
          0.06584992327217827,
          0.11509751558824319,
          0.07752050378062658,
          0.2074353699768061,
          0.08134336681268704,
          0.03553974872929227,
          0.04219358956088554,
          0.22323892609964496,
          0.15187410028109438,
          0.04472808610038849,
          0.08690783780378744,
          0,
          0.15889361166015048,
          0.29550641395021265,
          0.12339248501070885,
          0.07666699712296485,
          0.3231473277444912,
          0.309041903923962,
          0.36097321445168007,
          0.31818449375127794,
          0.3913133365965893,
          0.2427832475179634,
          0.24529089448323863,
          0.22512232046412586,
          0.12075410127246328,
          0.156604169119272,
          0.14326901827629865,
          0.17073788826033348,
          0.14888677534548173,
          0.13288360296501914,
          0.14914174303305183,
          0.13029933144560174,
          0.08671648295361839,
          0.20888772540733902,
          0.1541984472684689,
          0.16321825192748962,
          0.13344610154508973,
          0.28314951701746666,
          0.28823255448914553,
          0.16506354055008582,
          0.31315288354100446,
          0.20504741015203054,
          0.13728362857538223,
          0.2475604063786327,
          0.10326862585944455,
          0.0974564159122969,
          0.27625258427151944,
          0.1995021469332623,
          0.06655317558175798,
          0.077307462735889,
          0.059910590917821714,
          0.14086515524217283,
          0.12350329113819476,
          0.21536601133052033,
          0.03337350442708172,
          0.1869719669791544,
          0.11440180181296587,
          0.1328763742334963,
          0.10027097416451354,
          0.054362849276817046
         ],
         "yaxis": "y"
        },
        {
         "hovertemplate": "variable=Close<br>Date=%{x}<br>value=%{y}<extra></extra>",
         "legendgroup": "Close",
         "line": {
          "color": "#EF553B",
          "dash": "solid"
         },
         "marker": {
          "symbol": "circle"
         },
         "mode": "lines",
         "name": "Close",
         "orientation": "v",
         "showlegend": true,
         "type": "scatter",
         "x": [
          "2024-01-02T00:00:00",
          "2024-01-03T00:00:00",
          "2024-01-04T00:00:00",
          "2024-01-05T00:00:00",
          "2024-01-08T00:00:00",
          "2024-01-09T00:00:00",
          "2024-01-10T00:00:00",
          "2024-01-11T00:00:00",
          "2024-01-12T00:00:00",
          "2024-01-16T00:00:00",
          "2024-01-17T00:00:00",
          "2024-01-18T00:00:00",
          "2024-01-19T00:00:00",
          "2024-01-22T00:00:00",
          "2024-01-23T00:00:00",
          "2024-01-24T00:00:00",
          "2024-01-25T00:00:00",
          "2024-01-26T00:00:00",
          "2024-01-29T00:00:00",
          "2024-01-30T00:00:00",
          "2024-01-31T00:00:00",
          "2024-02-01T00:00:00",
          "2024-02-02T00:00:00",
          "2024-02-05T00:00:00",
          "2024-02-06T00:00:00",
          "2024-02-07T00:00:00",
          "2024-02-08T00:00:00",
          "2024-02-09T00:00:00",
          "2024-02-12T00:00:00",
          "2024-02-13T00:00:00",
          "2024-02-14T00:00:00",
          "2024-02-15T00:00:00",
          "2024-02-16T00:00:00",
          "2024-02-20T00:00:00",
          "2024-02-21T00:00:00",
          "2024-02-22T00:00:00",
          "2024-02-23T00:00:00",
          "2024-02-26T00:00:00",
          "2024-02-27T00:00:00",
          "2024-02-28T00:00:00",
          "2024-02-29T00:00:00",
          "2024-03-01T00:00:00",
          "2024-03-04T00:00:00",
          "2024-03-05T00:00:00",
          "2024-03-06T00:00:00",
          "2024-03-07T00:00:00",
          "2024-03-08T00:00:00",
          "2024-03-11T00:00:00",
          "2024-03-12T00:00:00",
          "2024-03-13T00:00:00",
          "2024-03-14T00:00:00",
          "2024-03-15T00:00:00",
          "2024-03-18T00:00:00",
          "2024-03-19T00:00:00",
          "2024-03-20T00:00:00",
          "2024-03-21T00:00:00",
          "2024-03-22T00:00:00",
          "2024-03-25T00:00:00",
          "2024-03-26T00:00:00",
          "2024-03-27T00:00:00",
          "2024-03-28T00:00:00",
          "2024-04-01T00:00:00",
          "2024-04-02T00:00:00",
          "2024-04-03T00:00:00",
          "2024-04-04T00:00:00",
          "2024-04-05T00:00:00",
          "2024-04-08T00:00:00",
          "2024-04-09T00:00:00",
          "2024-04-10T00:00:00",
          "2024-04-11T00:00:00",
          "2024-04-12T00:00:00",
          "2024-04-15T00:00:00",
          "2024-04-16T00:00:00",
          "2024-04-17T00:00:00",
          "2024-04-18T00:00:00",
          "2024-04-19T00:00:00",
          "2024-04-22T00:00:00",
          "2024-04-23T00:00:00",
          "2024-04-24T00:00:00",
          "2024-04-25T00:00:00",
          "2024-04-26T00:00:00",
          "2024-04-29T00:00:00",
          "2024-04-30T00:00:00",
          "2024-05-01T00:00:00",
          "2024-05-02T00:00:00",
          "2024-05-03T00:00:00",
          "2024-05-06T00:00:00",
          "2024-05-07T00:00:00",
          "2024-05-08T00:00:00",
          "2024-05-09T00:00:00",
          "2024-05-10T00:00:00",
          "2024-05-13T00:00:00",
          "2024-05-14T00:00:00",
          "2024-05-15T00:00:00",
          "2024-05-16T00:00:00",
          "2024-05-17T00:00:00",
          "2024-05-20T00:00:00",
          "2024-05-21T00:00:00",
          "2024-05-22T00:00:00",
          "2024-05-23T00:00:00",
          "2024-05-24T00:00:00",
          "2024-05-28T00:00:00",
          "2024-05-29T00:00:00",
          "2024-05-30T00:00:00",
          "2024-05-31T00:00:00",
          "2024-06-03T00:00:00",
          "2024-06-04T00:00:00",
          "2024-06-05T00:00:00",
          "2024-06-06T00:00:00",
          "2024-06-07T00:00:00",
          "2024-06-10T00:00:00",
          "2024-06-11T00:00:00",
          "2024-06-12T00:00:00",
          "2024-06-13T00:00:00",
          "2024-06-14T00:00:00",
          "2024-06-17T00:00:00",
          "2024-06-18T00:00:00",
          "2024-06-20T00:00:00",
          "2024-06-21T00:00:00",
          "2024-06-24T00:00:00",
          "2024-06-25T00:00:00",
          "2024-06-26T00:00:00",
          "2024-06-27T00:00:00",
          "2024-06-28T00:00:00",
          "2024-07-01T00:00:00",
          "2024-07-02T00:00:00",
          "2024-07-03T00:00:00",
          "2024-07-05T00:00:00",
          "2024-07-08T00:00:00",
          "2024-07-09T00:00:00",
          "2024-07-10T00:00:00",
          "2024-07-11T00:00:00",
          "2024-07-12T00:00:00",
          "2024-07-15T00:00:00",
          "2024-07-16T00:00:00",
          "2024-07-17T00:00:00",
          "2024-07-18T00:00:00",
          "2024-07-19T00:00:00",
          "2024-07-22T00:00:00",
          "2024-07-23T00:00:00",
          "2024-07-24T00:00:00",
          "2024-07-25T00:00:00",
          "2024-07-26T00:00:00",
          "2024-07-29T00:00:00",
          "2024-07-30T00:00:00",
          "2024-07-31T00:00:00",
          "2024-08-01T00:00:00",
          "2024-08-02T00:00:00",
          "2024-08-05T00:00:00",
          "2024-08-06T00:00:00",
          "2024-08-07T00:00:00",
          "2024-08-08T00:00:00",
          "2024-08-09T00:00:00",
          "2024-08-12T00:00:00",
          "2024-08-13T00:00:00",
          "2024-08-14T00:00:00",
          "2024-08-15T00:00:00",
          "2024-08-16T00:00:00",
          "2024-08-19T00:00:00",
          "2024-08-20T00:00:00",
          "2024-08-21T00:00:00",
          "2024-08-22T00:00:00",
          "2024-08-23T00:00:00",
          "2024-08-26T00:00:00",
          "2024-08-27T00:00:00",
          "2024-08-28T00:00:00",
          "2024-08-29T00:00:00",
          "2024-08-30T00:00:00",
          "2024-09-03T00:00:00",
          "2024-09-04T00:00:00",
          "2024-09-05T00:00:00",
          "2024-09-06T00:00:00",
          "2024-09-09T00:00:00",
          "2024-09-10T00:00:00",
          "2024-09-11T00:00:00",
          "2024-09-12T00:00:00",
          "2024-09-13T00:00:00",
          "2024-09-16T00:00:00",
          "2024-09-17T00:00:00",
          "2024-09-18T00:00:00",
          "2024-09-19T00:00:00",
          "2024-09-20T00:00:00",
          "2024-09-23T00:00:00",
          "2024-09-24T00:00:00",
          "2024-09-25T00:00:00",
          "2024-09-26T00:00:00",
          "2024-09-27T00:00:00",
          "2024-09-30T00:00:00"
         ],
         "xaxis": "x",
         "y": [
          0.006805956217257221,
          0,
          0.0048744003221975205,
          0.017361464480332326,
          0.05322059769180709,
          0.06329889496833235,
          0.0770471657828365,
          0.08241013306601419,
          0.0811375704352146,
          0.100135205445181,
          0.09639705271720721,
          0.1083727946220879,
          0.13546034779795513,
          0.13731236852858983,
          0.13980071391803822,
          0.15671903533511125,
          0.15961641252111466,
          0.1529581273148633,
          0.16925156673438055,
          0.17276246994350958,
          0.15859381135802017,
          0.17563713518065266,
          0.21123499429340606,
          0.2472759097825911,
          0.23467519919332697,
          0.2559907099460478,
          0.2507868129917201,
          0.2791015049006664,
          0.2804081354547564,
          0.27904463834168786,
          0.29917852094587805,
          0.28506659888912556,
          0.28455531997928524,
          0.24863940689565966,
          0.22614218130758057,
          0.35187648375341474,
          0.35504653435598355,
          0.3581711610608317,
          0.3537284611406356,
          0.3419345448568791,
          0.3583983672362626,
          0.39438250285329685,
          0.42799193951201203,
          0.4362522406377792,
          0.4673392639837555,
          0.5124359189297851,
          0.45402278025808046,
          0.4340934785672886,
          0.503846121171888,
          0.49219983255572336,
          0.45874946622585827,
          0.4575336834672095,
          0.46455557657229524,
          0.47527015516422033,
          0.48633694233713576,
          0.4984149313553018,
          0.5308427398654864,
          0.5389439706624036,
          0.5112087801967062,
          0.4849507332752068,
          0.48615516005942566,
          0.4862346518804366,
          0.4758837245307598,
          0.4703388882830442,
          0.4355818913990889,
          0.4594766820235271,
          0.44953474312699143,
          0.4293212820149624,
          0.4484666747227624,
          0.4891092737741658,
          0.46149908571402803,
          0.4366726717521782,
          0.4527388616528507,
          0.4143346031797768,
          0.4215609038246054,
          0.32531156546181794,
          0.3630114067729111,
          0.396018630039517,
          0.3648180469492391,
          0.39839341568466374,
          0.4563747672675392,
          0.45662477207865815,
          0.4412289314166759,
          0.40304052314460276,
          0.43458204552826857,
          0.4683505525158337,
          0.5064253143567776,
          0.48840485661218525,
          0.4867914413748253,
          0.46787334152928384,
          0.4807239702428392,
          0.48664372702040565,
          0.4975173759411806,
          0.5347172076300356,
          0.5316380915097358,
          0.510277070172467,
          0.5364215573496646,
          0.5433070920747607,
          0.5383531132447245,
          0.6388974371732881,
          0.6692345327727351,
          0.7536785121905085,
          0.7641771538946052,
          0.7150356048807457,
          0.7051846004664791,
          0.7661655763486434,
          0.7824930403480372,
          0.8507004902486851,
          0.8343161596903127,
          0.8330663090083734,
          0.8433150325881792,
          0.8333163138194927,
          0.8820601436678133,
          0.9321675573160302,
          0.9579598359122375,
          0.9477337375944648,
          1,
          0.9454613290928449,
          0.8976264106330757,
          0.8015020746758477,
          0.892172508867629,
          0.8956948547380159,
          0.8683118728533088,
          0.8631989103812504,
          0.8718342187236956,
          0.8533137513568656,
          0.9170557893884573,
          0.8892183951528884,
          0.9161467913130783,
          0.95227872797136,
          0.9923873361640628,
          0.9070570706197709,
          0.9279635929193506,
          0.9188737855392155,
          0.8952403557003265,
          0.8001385775627787,
          0.835361429458854,
          0.7994568723496586,
          0.8631989103812504,
          0.8524047532814866,
          0.757643914437327,
          0.7352603352803773,
          0.7441228497982537,
          0.7274203785821814,
          0.6381134415034685,
          0.7891172142875842,
          0.7003783359908624,
          0.6783356094404729,
          0.600845300594377,
          0.6440217556197769,
          0.5833475644208825,
          0.652202564924533,
          0.6497028635606544,
          0.6982194872335441,
          0.7791184955188978,
          0.8011612220692871,
          0.8554726001141839,
          0.8750156253006947,
          0.9365988145749684,
          0.9053527209001422,
          0.9195554907523359,
          0.86547131888287,
          0.929440563089893,
          0.8963765599511364,
          0.917283082250716,
          0.8867186937890101,
          0.7955936738727115,
          0.8158184909591707,
          0.6866300651763582,
          0.6662916883455974,
          0.6776539042273524,
          0.6278874298725233,
          0.6692458887471655,
          0.6877662694271681,
          0.7878674502924727,
          0.8132051431641628,
          0.8127506441264734,
          0.7863903067482748,
          0.7728692421092015,
          0.7476451956686406,
          0.7987751671365382,
          0.7775277922303984,
          0.7804819926319664,
          0.8328618147818032,
          0.8628580577746902,
          0.8688800183221279,
          0.8388837753292409,
          0.8393382743669301
         ],
         "yaxis": "y"
        }
       ],
       "layout": {
        "legend": {
         "title": {
          "text": "variable"
         },
         "tracegroupgap": 0
        },
        "template": {
         "data": {
          "bar": [
           {
            "error_x": {
             "color": "#2a3f5f"
            },
            "error_y": {
             "color": "#2a3f5f"
            },
            "marker": {
             "line": {
              "color": "#E5ECF6",
              "width": 0.5
             },
             "pattern": {
              "fillmode": "overlay",
              "size": 10,
              "solidity": 0.2
             }
            },
            "type": "bar"
           }
          ],
          "barpolar": [
           {
            "marker": {
             "line": {
              "color": "#E5ECF6",
              "width": 0.5
             },
             "pattern": {
              "fillmode": "overlay",
              "size": 10,
              "solidity": 0.2
             }
            },
            "type": "barpolar"
           }
          ],
          "carpet": [
           {
            "aaxis": {
             "endlinecolor": "#2a3f5f",
             "gridcolor": "white",
             "linecolor": "white",
             "minorgridcolor": "white",
             "startlinecolor": "#2a3f5f"
            },
            "baxis": {
             "endlinecolor": "#2a3f5f",
             "gridcolor": "white",
             "linecolor": "white",
             "minorgridcolor": "white",
             "startlinecolor": "#2a3f5f"
            },
            "type": "carpet"
           }
          ],
          "choropleth": [
           {
            "colorbar": {
             "outlinewidth": 0,
             "ticks": ""
            },
            "type": "choropleth"
           }
          ],
          "contour": [
           {
            "colorbar": {
             "outlinewidth": 0,
             "ticks": ""
            },
            "colorscale": [
             [
              0,
              "#0d0887"
             ],
             [
              0.1111111111111111,
              "#46039f"
             ],
             [
              0.2222222222222222,
              "#7201a8"
             ],
             [
              0.3333333333333333,
              "#9c179e"
             ],
             [
              0.4444444444444444,
              "#bd3786"
             ],
             [
              0.5555555555555556,
              "#d8576b"
             ],
             [
              0.6666666666666666,
              "#ed7953"
             ],
             [
              0.7777777777777778,
              "#fb9f3a"
             ],
             [
              0.8888888888888888,
              "#fdca26"
             ],
             [
              1,
              "#f0f921"
             ]
            ],
            "type": "contour"
           }
          ],
          "contourcarpet": [
           {
            "colorbar": {
             "outlinewidth": 0,
             "ticks": ""
            },
            "type": "contourcarpet"
           }
          ],
          "heatmap": [
           {
            "colorbar": {
             "outlinewidth": 0,
             "ticks": ""
            },
            "colorscale": [
             [
              0,
              "#0d0887"
             ],
             [
              0.1111111111111111,
              "#46039f"
             ],
             [
              0.2222222222222222,
              "#7201a8"
             ],
             [
              0.3333333333333333,
              "#9c179e"
             ],
             [
              0.4444444444444444,
              "#bd3786"
             ],
             [
              0.5555555555555556,
              "#d8576b"
             ],
             [
              0.6666666666666666,
              "#ed7953"
             ],
             [
              0.7777777777777778,
              "#fb9f3a"
             ],
             [
              0.8888888888888888,
              "#fdca26"
             ],
             [
              1,
              "#f0f921"
             ]
            ],
            "type": "heatmap"
           }
          ],
          "heatmapgl": [
           {
            "colorbar": {
             "outlinewidth": 0,
             "ticks": ""
            },
            "colorscale": [
             [
              0,
              "#0d0887"
             ],
             [
              0.1111111111111111,
              "#46039f"
             ],
             [
              0.2222222222222222,
              "#7201a8"
             ],
             [
              0.3333333333333333,
              "#9c179e"
             ],
             [
              0.4444444444444444,
              "#bd3786"
             ],
             [
              0.5555555555555556,
              "#d8576b"
             ],
             [
              0.6666666666666666,
              "#ed7953"
             ],
             [
              0.7777777777777778,
              "#fb9f3a"
             ],
             [
              0.8888888888888888,
              "#fdca26"
             ],
             [
              1,
              "#f0f921"
             ]
            ],
            "type": "heatmapgl"
           }
          ],
          "histogram": [
           {
            "marker": {
             "pattern": {
              "fillmode": "overlay",
              "size": 10,
              "solidity": 0.2
             }
            },
            "type": "histogram"
           }
          ],
          "histogram2d": [
           {
            "colorbar": {
             "outlinewidth": 0,
             "ticks": ""
            },
            "colorscale": [
             [
              0,
              "#0d0887"
             ],
             [
              0.1111111111111111,
              "#46039f"
             ],
             [
              0.2222222222222222,
              "#7201a8"
             ],
             [
              0.3333333333333333,
              "#9c179e"
             ],
             [
              0.4444444444444444,
              "#bd3786"
             ],
             [
              0.5555555555555556,
              "#d8576b"
             ],
             [
              0.6666666666666666,
              "#ed7953"
             ],
             [
              0.7777777777777778,
              "#fb9f3a"
             ],
             [
              0.8888888888888888,
              "#fdca26"
             ],
             [
              1,
              "#f0f921"
             ]
            ],
            "type": "histogram2d"
           }
          ],
          "histogram2dcontour": [
           {
            "colorbar": {
             "outlinewidth": 0,
             "ticks": ""
            },
            "colorscale": [
             [
              0,
              "#0d0887"
             ],
             [
              0.1111111111111111,
              "#46039f"
             ],
             [
              0.2222222222222222,
              "#7201a8"
             ],
             [
              0.3333333333333333,
              "#9c179e"
             ],
             [
              0.4444444444444444,
              "#bd3786"
             ],
             [
              0.5555555555555556,
              "#d8576b"
             ],
             [
              0.6666666666666666,
              "#ed7953"
             ],
             [
              0.7777777777777778,
              "#fb9f3a"
             ],
             [
              0.8888888888888888,
              "#fdca26"
             ],
             [
              1,
              "#f0f921"
             ]
            ],
            "type": "histogram2dcontour"
           }
          ],
          "mesh3d": [
           {
            "colorbar": {
             "outlinewidth": 0,
             "ticks": ""
            },
            "type": "mesh3d"
           }
          ],
          "parcoords": [
           {
            "line": {
             "colorbar": {
              "outlinewidth": 0,
              "ticks": ""
             }
            },
            "type": "parcoords"
           }
          ],
          "pie": [
           {
            "automargin": true,
            "type": "pie"
           }
          ],
          "scatter": [
           {
            "fillpattern": {
             "fillmode": "overlay",
             "size": 10,
             "solidity": 0.2
            },
            "type": "scatter"
           }
          ],
          "scatter3d": [
           {
            "line": {
             "colorbar": {
              "outlinewidth": 0,
              "ticks": ""
             }
            },
            "marker": {
             "colorbar": {
              "outlinewidth": 0,
              "ticks": ""
             }
            },
            "type": "scatter3d"
           }
          ],
          "scattercarpet": [
           {
            "marker": {
             "colorbar": {
              "outlinewidth": 0,
              "ticks": ""
             }
            },
            "type": "scattercarpet"
           }
          ],
          "scattergeo": [
           {
            "marker": {
             "colorbar": {
              "outlinewidth": 0,
              "ticks": ""
             }
            },
            "type": "scattergeo"
           }
          ],
          "scattergl": [
           {
            "marker": {
             "colorbar": {
              "outlinewidth": 0,
              "ticks": ""
             }
            },
            "type": "scattergl"
           }
          ],
          "scattermapbox": [
           {
            "marker": {
             "colorbar": {
              "outlinewidth": 0,
              "ticks": ""
             }
            },
            "type": "scattermapbox"
           }
          ],
          "scatterpolar": [
           {
            "marker": {
             "colorbar": {
              "outlinewidth": 0,
              "ticks": ""
             }
            },
            "type": "scatterpolar"
           }
          ],
          "scatterpolargl": [
           {
            "marker": {
             "colorbar": {
              "outlinewidth": 0,
              "ticks": ""
             }
            },
            "type": "scatterpolargl"
           }
          ],
          "scatterternary": [
           {
            "marker": {
             "colorbar": {
              "outlinewidth": 0,
              "ticks": ""
             }
            },
            "type": "scatterternary"
           }
          ],
          "surface": [
           {
            "colorbar": {
             "outlinewidth": 0,
             "ticks": ""
            },
            "colorscale": [
             [
              0,
              "#0d0887"
             ],
             [
              0.1111111111111111,
              "#46039f"
             ],
             [
              0.2222222222222222,
              "#7201a8"
             ],
             [
              0.3333333333333333,
              "#9c179e"
             ],
             [
              0.4444444444444444,
              "#bd3786"
             ],
             [
              0.5555555555555556,
              "#d8576b"
             ],
             [
              0.6666666666666666,
              "#ed7953"
             ],
             [
              0.7777777777777778,
              "#fb9f3a"
             ],
             [
              0.8888888888888888,
              "#fdca26"
             ],
             [
              1,
              "#f0f921"
             ]
            ],
            "type": "surface"
           }
          ],
          "table": [
           {
            "cells": {
             "fill": {
              "color": "#EBF0F8"
             },
             "line": {
              "color": "white"
             }
            },
            "header": {
             "fill": {
              "color": "#C8D4E3"
             },
             "line": {
              "color": "white"
             }
            },
            "type": "table"
           }
          ]
         },
         "layout": {
          "annotationdefaults": {
           "arrowcolor": "#2a3f5f",
           "arrowhead": 0,
           "arrowwidth": 1
          },
          "autotypenumbers": "strict",
          "coloraxis": {
           "colorbar": {
            "outlinewidth": 0,
            "ticks": ""
           }
          },
          "colorscale": {
           "diverging": [
            [
             0,
             "#8e0152"
            ],
            [
             0.1,
             "#c51b7d"
            ],
            [
             0.2,
             "#de77ae"
            ],
            [
             0.3,
             "#f1b6da"
            ],
            [
             0.4,
             "#fde0ef"
            ],
            [
             0.5,
             "#f7f7f7"
            ],
            [
             0.6,
             "#e6f5d0"
            ],
            [
             0.7,
             "#b8e186"
            ],
            [
             0.8,
             "#7fbc41"
            ],
            [
             0.9,
             "#4d9221"
            ],
            [
             1,
             "#276419"
            ]
           ],
           "sequential": [
            [
             0,
             "#0d0887"
            ],
            [
             0.1111111111111111,
             "#46039f"
            ],
            [
             0.2222222222222222,
             "#7201a8"
            ],
            [
             0.3333333333333333,
             "#9c179e"
            ],
            [
             0.4444444444444444,
             "#bd3786"
            ],
            [
             0.5555555555555556,
             "#d8576b"
            ],
            [
             0.6666666666666666,
             "#ed7953"
            ],
            [
             0.7777777777777778,
             "#fb9f3a"
            ],
            [
             0.8888888888888888,
             "#fdca26"
            ],
            [
             1,
             "#f0f921"
            ]
           ],
           "sequentialminus": [
            [
             0,
             "#0d0887"
            ],
            [
             0.1111111111111111,
             "#46039f"
            ],
            [
             0.2222222222222222,
             "#7201a8"
            ],
            [
             0.3333333333333333,
             "#9c179e"
            ],
            [
             0.4444444444444444,
             "#bd3786"
            ],
            [
             0.5555555555555556,
             "#d8576b"
            ],
            [
             0.6666666666666666,
             "#ed7953"
            ],
            [
             0.7777777777777778,
             "#fb9f3a"
            ],
            [
             0.8888888888888888,
             "#fdca26"
            ],
            [
             1,
             "#f0f921"
            ]
           ]
          },
          "colorway": [
           "#636efa",
           "#EF553B",
           "#00cc96",
           "#ab63fa",
           "#FFA15A",
           "#19d3f3",
           "#FF6692",
           "#B6E880",
           "#FF97FF",
           "#FECB52"
          ],
          "font": {
           "color": "#2a3f5f"
          },
          "geo": {
           "bgcolor": "white",
           "lakecolor": "white",
           "landcolor": "#E5ECF6",
           "showlakes": true,
           "showland": true,
           "subunitcolor": "white"
          },
          "hoverlabel": {
           "align": "left"
          },
          "hovermode": "closest",
          "mapbox": {
           "style": "light"
          },
          "paper_bgcolor": "white",
          "plot_bgcolor": "#E5ECF6",
          "polar": {
           "angularaxis": {
            "gridcolor": "white",
            "linecolor": "white",
            "ticks": ""
           },
           "bgcolor": "#E5ECF6",
           "radialaxis": {
            "gridcolor": "white",
            "linecolor": "white",
            "ticks": ""
           }
          },
          "scene": {
           "xaxis": {
            "backgroundcolor": "#E5ECF6",
            "gridcolor": "white",
            "gridwidth": 2,
            "linecolor": "white",
            "showbackground": true,
            "ticks": "",
            "zerolinecolor": "white"
           },
           "yaxis": {
            "backgroundcolor": "#E5ECF6",
            "gridcolor": "white",
            "gridwidth": 2,
            "linecolor": "white",
            "showbackground": true,
            "ticks": "",
            "zerolinecolor": "white"
           },
           "zaxis": {
            "backgroundcolor": "#E5ECF6",
            "gridcolor": "white",
            "gridwidth": 2,
            "linecolor": "white",
            "showbackground": true,
            "ticks": "",
            "zerolinecolor": "white"
           }
          },
          "shapedefaults": {
           "line": {
            "color": "#2a3f5f"
           }
          },
          "ternary": {
           "aaxis": {
            "gridcolor": "white",
            "linecolor": "white",
            "ticks": ""
           },
           "baxis": {
            "gridcolor": "white",
            "linecolor": "white",
            "ticks": ""
           },
           "bgcolor": "#E5ECF6",
           "caxis": {
            "gridcolor": "white",
            "linecolor": "white",
            "ticks": ""
           }
          },
          "title": {
           "x": 0.05
          },
          "xaxis": {
           "automargin": true,
           "gridcolor": "white",
           "linecolor": "white",
           "ticks": "",
           "title": {
            "standoff": 15
           },
           "zerolinecolor": "white",
           "zerolinewidth": 2
          },
          "yaxis": {
           "automargin": true,
           "gridcolor": "white",
           "linecolor": "white",
           "ticks": "",
           "title": {
            "standoff": 15
           },
           "zerolinecolor": "white",
           "zerolinewidth": 2
          }
         }
        },
        "title": {
         "text": "Volume and Close Price of NVIDIA Stock from 2024"
        },
        "xaxis": {
         "anchor": "y",
         "domain": [
          0,
          1
         ],
         "title": {
          "text": "Date"
         }
        },
        "yaxis": {
         "anchor": "x",
         "domain": [
          0,
          1
         ],
         "title": {
          "text": "value"
         }
        }
       }
      }
     },
     "metadata": {},
     "output_type": "display_data"
    }
   ],
   "source": [
    "#  Volume base on date and close on date from 2024\n",
    "dataset_2024 = dataset[dataset.index.year == 2024]\n",
    "import plotly.express as px\n",
    "\n",
    "# normalize the volume column and close column\n",
    "dataset_2024['Volume'] = (dataset_2024['Volume'] - dataset_2024['Volume'].min()) / (dataset_2024['Volume'].max() - dataset_2024['Volume'].min())\n",
    "dataset_2024['Close'] = (dataset_2024['Close'] - dataset_2024['Close'].min()) / (dataset_2024['Close'].max() - dataset_2024['Close'].min())\n",
    "\n",
    "# add volume and close price on the same plot\n",
    "fig = px.line(dataset_2024, x=dataset_2024.index, y=['Volume', 'Close'], title='Volume and Close Price of NVIDIA Stock from 2024')\n",
    "fig.show()"
   ]
  },
  {
   "cell_type": "markdown",
   "metadata": {},
   "source": [
    "# Modeling - LSTM"
   ]
  },
  {
   "cell_type": "markdown",
   "metadata": {},
   "source": [
    "This dataset contains time series data. So we will use 2 different approach to model the data. We will use LSTM to model the data. For main features we will use Close price because other feature is identical and `Volume` feature is not correlated with the `Close` price.\n",
    "\n",
    "Why we don't use ARIMA model? Because ARIMA model is not suitable for this dataset because the data is not stationary. We can see from the plot that the data is not stationary. So we will use LSTM model to model the data."
   ]
  },
  {
   "cell_type": "code",
   "execution_count": 40,
   "metadata": {},
   "outputs": [
    {
     "data": {
      "text/html": [
       "<div>\n",
       "<style scoped>\n",
       "    .dataframe tbody tr th:only-of-type {\n",
       "        vertical-align: middle;\n",
       "    }\n",
       "\n",
       "    .dataframe tbody tr th {\n",
       "        vertical-align: top;\n",
       "    }\n",
       "\n",
       "    .dataframe thead th {\n",
       "        text-align: right;\n",
       "    }\n",
       "</style>\n",
       "<table border=\"1\" class=\"dataframe\">\n",
       "  <thead>\n",
       "    <tr style=\"text-align: right;\">\n",
       "      <th></th>\n",
       "      <th>Adj Close</th>\n",
       "      <th>Close</th>\n",
       "      <th>High</th>\n",
       "      <th>Low</th>\n",
       "      <th>Open</th>\n",
       "      <th>Volume</th>\n",
       "    </tr>\n",
       "    <tr>\n",
       "      <th>Date</th>\n",
       "      <th></th>\n",
       "      <th></th>\n",
       "      <th></th>\n",
       "      <th></th>\n",
       "      <th></th>\n",
       "      <th></th>\n",
       "    </tr>\n",
       "  </thead>\n",
       "  <tbody>\n",
       "    <tr>\n",
       "      <th>2018-01-02</th>\n",
       "      <td>4.929880</td>\n",
       "      <td>4.983750</td>\n",
       "      <td>4.987500</td>\n",
       "      <td>4.862500</td>\n",
       "      <td>4.894500</td>\n",
       "      <td>355616000</td>\n",
       "    </tr>\n",
       "    <tr>\n",
       "      <th>2018-01-03</th>\n",
       "      <td>5.254335</td>\n",
       "      <td>5.311750</td>\n",
       "      <td>5.342500</td>\n",
       "      <td>5.093750</td>\n",
       "      <td>5.102500</td>\n",
       "      <td>914704000</td>\n",
       "    </tr>\n",
       "    <tr>\n",
       "      <th>2018-01-04</th>\n",
       "      <td>5.282033</td>\n",
       "      <td>5.339750</td>\n",
       "      <td>5.451250</td>\n",
       "      <td>5.317250</td>\n",
       "      <td>5.394000</td>\n",
       "      <td>583268000</td>\n",
       "    </tr>\n",
       "    <tr>\n",
       "      <th>2018-01-05</th>\n",
       "      <td>5.326794</td>\n",
       "      <td>5.385000</td>\n",
       "      <td>5.422750</td>\n",
       "      <td>5.277000</td>\n",
       "      <td>5.354750</td>\n",
       "      <td>580124000</td>\n",
       "    </tr>\n",
       "    <tr>\n",
       "      <th>2018-01-08</th>\n",
       "      <td>5.490012</td>\n",
       "      <td>5.550000</td>\n",
       "      <td>5.625000</td>\n",
       "      <td>5.464500</td>\n",
       "      <td>5.510000</td>\n",
       "      <td>881216000</td>\n",
       "    </tr>\n",
       "    <tr>\n",
       "      <th>...</th>\n",
       "      <td>...</td>\n",
       "      <td>...</td>\n",
       "      <td>...</td>\n",
       "      <td>...</td>\n",
       "      <td>...</td>\n",
       "      <td>...</td>\n",
       "    </tr>\n",
       "    <tr>\n",
       "      <th>2024-09-24</th>\n",
       "      <td>120.861671</td>\n",
       "      <td>120.870003</td>\n",
       "      <td>121.800003</td>\n",
       "      <td>115.379997</td>\n",
       "      <td>116.519997</td>\n",
       "      <td>354966800</td>\n",
       "    </tr>\n",
       "    <tr>\n",
       "      <th>2024-09-25</th>\n",
       "      <td>123.501495</td>\n",
       "      <td>123.510002</td>\n",
       "      <td>124.940002</td>\n",
       "      <td>121.610001</td>\n",
       "      <td>122.019997</td>\n",
       "      <td>284692900</td>\n",
       "    </tr>\n",
       "    <tr>\n",
       "      <th>2024-09-26</th>\n",
       "      <td>124.031456</td>\n",
       "      <td>124.040001</td>\n",
       "      <td>127.669998</td>\n",
       "      <td>121.800003</td>\n",
       "      <td>126.800003</td>\n",
       "      <td>302582900</td>\n",
       "    </tr>\n",
       "    <tr>\n",
       "      <th>2024-09-27</th>\n",
       "      <td>121.391640</td>\n",
       "      <td>121.400002</td>\n",
       "      <td>124.029999</td>\n",
       "      <td>119.260002</td>\n",
       "      <td>123.970001</td>\n",
       "      <td>271009200</td>\n",
       "    </tr>\n",
       "    <tr>\n",
       "      <th>2024-09-30</th>\n",
       "      <td>121.431633</td>\n",
       "      <td>121.440002</td>\n",
       "      <td>121.500000</td>\n",
       "      <td>118.150002</td>\n",
       "      <td>118.309998</td>\n",
       "      <td>226553700</td>\n",
       "    </tr>\n",
       "  </tbody>\n",
       "</table>\n",
       "<p>1697 rows × 6 columns</p>\n",
       "</div>"
      ],
      "text/plain": [
       "             Adj Close       Close        High         Low        Open  \\\n",
       "Date                                                                     \n",
       "2018-01-02    4.929880    4.983750    4.987500    4.862500    4.894500   \n",
       "2018-01-03    5.254335    5.311750    5.342500    5.093750    5.102500   \n",
       "2018-01-04    5.282033    5.339750    5.451250    5.317250    5.394000   \n",
       "2018-01-05    5.326794    5.385000    5.422750    5.277000    5.354750   \n",
       "2018-01-08    5.490012    5.550000    5.625000    5.464500    5.510000   \n",
       "...                ...         ...         ...         ...         ...   \n",
       "2024-09-24  120.861671  120.870003  121.800003  115.379997  116.519997   \n",
       "2024-09-25  123.501495  123.510002  124.940002  121.610001  122.019997   \n",
       "2024-09-26  124.031456  124.040001  127.669998  121.800003  126.800003   \n",
       "2024-09-27  121.391640  121.400002  124.029999  119.260002  123.970001   \n",
       "2024-09-30  121.431633  121.440002  121.500000  118.150002  118.309998   \n",
       "\n",
       "               Volume  \n",
       "Date                   \n",
       "2018-01-02  355616000  \n",
       "2018-01-03  914704000  \n",
       "2018-01-04  583268000  \n",
       "2018-01-05  580124000  \n",
       "2018-01-08  881216000  \n",
       "...               ...  \n",
       "2024-09-24  354966800  \n",
       "2024-09-25  284692900  \n",
       "2024-09-26  302582900  \n",
       "2024-09-27  271009200  \n",
       "2024-09-30  226553700  \n",
       "\n",
       "[1697 rows x 6 columns]"
      ]
     },
     "execution_count": 40,
     "metadata": {},
     "output_type": "execute_result"
    }
   ],
   "source": [
    "dataset"
   ]
  },
  {
   "cell_type": "code",
   "execution_count": 75,
   "metadata": {},
   "outputs": [
    {
     "data": {
      "text/plain": [
       "((1309, 60, 1), (328, 60, 1), (1309,), (328,))"
      ]
     },
     "execution_count": 75,
     "metadata": {},
     "output_type": "execute_result"
    }
   ],
   "source": [
    "# LSTM model\n",
    "import numpy as np\n",
    "from sklearn.preprocessing import MinMaxScaler\n",
    "from sklearn.model_selection import train_test_split\n",
    "\n",
    "# prepare the data\n",
    "data = dataset['Close'].values\n",
    "data = data.reshape(-1, 1)\n",
    "\n",
    "scaler = MinMaxScaler()\n",
    "data = scaler.fit_transform(data)\n",
    "\n",
    "X = []\n",
    "y = []\n",
    "for i in range(60, len(data)):\n",
    "    X.append(data[i-60:i, 0])\n",
    "    y.append(data[i, 0])\n",
    "\n",
    "X = np.array(X)\n",
    "y = np.array(y)\n",
    "\n",
    "X = np.reshape(X, (X.shape[0], X.shape[1], 1))"
   ]
  },
  {
   "cell_type": "code",
   "execution_count": null,
   "metadata": {},
   "outputs": [],
   "source": [
    "X_train, X_test, y_train, y_test = train_test_split(X, y, test_size=0.2, shuffle=False)\n",
    "\n",
    "X_train.shape, X_test.shape, y_train.shape, y_test.shape"
   ]
  },
  {
   "cell_type": "code",
   "execution_count": 115,
   "metadata": {},
   "outputs": [
    {
     "name": "stdout",
     "output_type": "stream",
     "text": [
      "Model: \"sequential_13\"\n",
      "_________________________________________________________________\n",
      " Layer (type)                Output Shape              Param #   \n",
      "=================================================================\n",
      " lstm_31 (LSTM)              (None, 60, 50)            10400     \n",
      "                                                                 \n",
      " dropout_29 (Dropout)        (None, 60, 50)            0         \n",
      "                                                                 \n",
      " lstm_32 (LSTM)              (None, 50)                20200     \n",
      "                                                                 \n",
      " dense_11 (Dense)            (None, 2)                 102       \n",
      "                                                                 \n",
      "=================================================================\n",
      "Total params: 30702 (119.93 KB)\n",
      "Trainable params: 30702 (119.93 KB)\n",
      "Non-trainable params: 0 (0.00 Byte)\n",
      "_________________________________________________________________\n"
     ]
    }
   ],
   "source": [
    "from tensorflow.keras.models import Sequential\n",
    "from tensorflow.keras.layers import Dense, LSTM, Dropout\n",
    "\n",
    "model = Sequential()\n",
    "\n",
    "# Add layers\n",
    "model.add(LSTM(units=50, return_sequences=True, input_shape = (X_train.shape[1], X_train.shape[2])))\n",
    "\n",
    "model.add(Dropout(0.1)) \n",
    "model.add(LSTM(units=50))\n",
    "\n",
    "model.add(Dense(2))\n",
    "\n",
    "\n",
    "# Compile model\n",
    "model.compile(optimizer='adam', loss='mean_squared_error')\n",
    "\n",
    "# Build model\n",
    "model.build(input_shape=(None, X_train.shape[1], X_train.shape[2]))\n",
    "\n",
    "# Print model summary\n",
    "model.summary()\n"
   ]
  },
  {
   "cell_type": "code",
   "execution_count": 116,
   "metadata": {},
   "outputs": [
    {
     "name": "stdout",
     "output_type": "stream",
     "text": [
      "Epoch 1/100\n",
      "41/41 [==============================] - 3s 20ms/step - loss: 0.0015\n",
      "Epoch 2/100\n",
      "41/41 [==============================] - 1s 20ms/step - loss: 1.2628e-04\n",
      "Epoch 3/100\n",
      "41/41 [==============================] - 1s 20ms/step - loss: 1.0910e-04\n",
      "Epoch 4/100\n",
      "41/41 [==============================] - 1s 20ms/step - loss: 1.0061e-04\n",
      "Epoch 5/100\n",
      "41/41 [==============================] - 1s 20ms/step - loss: 1.0086e-04\n",
      "Epoch 6/100\n",
      "41/41 [==============================] - 1s 20ms/step - loss: 9.2019e-05\n",
      "Epoch 7/100\n",
      "41/41 [==============================] - 1s 20ms/step - loss: 1.0787e-04\n",
      "Epoch 8/100\n",
      "41/41 [==============================] - 1s 20ms/step - loss: 7.9488e-05\n",
      "Epoch 9/100\n",
      "41/41 [==============================] - 1s 20ms/step - loss: 7.4588e-05\n",
      "Epoch 10/100\n",
      "41/41 [==============================] - 1s 20ms/step - loss: 7.4596e-05\n",
      "Epoch 11/100\n",
      "41/41 [==============================] - 1s 20ms/step - loss: 7.1991e-05\n",
      "Epoch 12/100\n",
      "41/41 [==============================] - 1s 20ms/step - loss: 6.7573e-05\n",
      "Epoch 13/100\n",
      "41/41 [==============================] - 1s 20ms/step - loss: 7.5170e-05\n",
      "Epoch 14/100\n",
      "41/41 [==============================] - 1s 20ms/step - loss: 6.6329e-05\n",
      "Epoch 15/100\n",
      "41/41 [==============================] - 1s 21ms/step - loss: 7.1077e-05\n",
      "Epoch 16/100\n",
      "41/41 [==============================] - 1s 20ms/step - loss: 7.8880e-05\n",
      "Epoch 17/100\n",
      "41/41 [==============================] - 1s 20ms/step - loss: 5.8532e-05\n",
      "Epoch 18/100\n",
      "41/41 [==============================] - 1s 20ms/step - loss: 5.3324e-05\n",
      "Epoch 19/100\n",
      "41/41 [==============================] - 1s 20ms/step - loss: 5.3368e-05\n",
      "Epoch 20/100\n",
      "41/41 [==============================] - 1s 20ms/step - loss: 6.0512e-05\n",
      "Epoch 21/100\n",
      "41/41 [==============================] - 1s 20ms/step - loss: 5.7719e-05\n",
      "Epoch 22/100\n",
      "41/41 [==============================] - 1s 20ms/step - loss: 5.2634e-05\n",
      "Epoch 23/100\n",
      "41/41 [==============================] - 1s 20ms/step - loss: 5.0600e-05\n",
      "Epoch 24/100\n",
      "41/41 [==============================] - 1s 20ms/step - loss: 5.1000e-05\n",
      "Epoch 25/100\n",
      "41/41 [==============================] - 1s 20ms/step - loss: 4.6211e-05\n",
      "Epoch 26/100\n",
      "41/41 [==============================] - 1s 21ms/step - loss: 4.6829e-05\n",
      "Epoch 27/100\n",
      "41/41 [==============================] - 1s 20ms/step - loss: 5.1189e-05\n",
      "Epoch 28/100\n",
      "41/41 [==============================] - 1s 20ms/step - loss: 4.6607e-05\n",
      "Epoch 29/100\n",
      "41/41 [==============================] - 1s 20ms/step - loss: 4.7155e-05\n",
      "Epoch 30/100\n",
      "41/41 [==============================] - 1s 19ms/step - loss: 4.6376e-05\n",
      "Epoch 31/100\n",
      "41/41 [==============================] - 1s 20ms/step - loss: 5.1551e-05\n",
      "Epoch 32/100\n",
      "41/41 [==============================] - 1s 20ms/step - loss: 4.3971e-05\n",
      "Epoch 33/100\n",
      "41/41 [==============================] - 1s 21ms/step - loss: 4.5532e-05\n",
      "Epoch 34/100\n",
      "41/41 [==============================] - 1s 20ms/step - loss: 4.5810e-05\n",
      "Epoch 35/100\n",
      "41/41 [==============================] - 1s 20ms/step - loss: 4.1382e-05\n",
      "Epoch 36/100\n",
      "41/41 [==============================] - 1s 20ms/step - loss: 4.8793e-05\n",
      "Epoch 37/100\n",
      "41/41 [==============================] - 1s 20ms/step - loss: 4.0791e-05\n",
      "Epoch 38/100\n",
      "41/41 [==============================] - 1s 20ms/step - loss: 5.4155e-05\n",
      "Epoch 39/100\n",
      "41/41 [==============================] - 1s 20ms/step - loss: 4.1474e-05\n",
      "Epoch 40/100\n",
      "41/41 [==============================] - 1s 20ms/step - loss: 4.2916e-05\n",
      "Epoch 41/100\n",
      "41/41 [==============================] - 1s 20ms/step - loss: 4.3466e-05\n",
      "Epoch 42/100\n",
      "41/41 [==============================] - 1s 20ms/step - loss: 4.3523e-05\n",
      "Epoch 43/100\n",
      "41/41 [==============================] - 1s 20ms/step - loss: 4.7852e-05\n",
      "Epoch 44/100\n",
      "41/41 [==============================] - 1s 21ms/step - loss: 4.5139e-05\n",
      "Epoch 45/100\n",
      "41/41 [==============================] - 1s 20ms/step - loss: 3.7185e-05\n",
      "Epoch 46/100\n",
      "41/41 [==============================] - 1s 20ms/step - loss: 4.0084e-05\n",
      "Epoch 47/100\n",
      "41/41 [==============================] - 1s 20ms/step - loss: 3.9026e-05\n",
      "Epoch 48/100\n",
      "41/41 [==============================] - 1s 20ms/step - loss: 3.5852e-05\n",
      "Epoch 49/100\n",
      "41/41 [==============================] - 1s 20ms/step - loss: 4.4302e-05\n",
      "Epoch 50/100\n",
      "41/41 [==============================] - 1s 20ms/step - loss: 3.4752e-05\n",
      "Epoch 51/100\n",
      "41/41 [==============================] - 1s 20ms/step - loss: 3.9346e-05\n",
      "Epoch 52/100\n",
      "41/41 [==============================] - 1s 20ms/step - loss: 3.4921e-05\n",
      "Epoch 53/100\n",
      "41/41 [==============================] - 1s 20ms/step - loss: 3.7735e-05\n",
      "Epoch 54/100\n",
      "41/41 [==============================] - 1s 22ms/step - loss: 4.5724e-05\n",
      "Epoch 55/100\n",
      "41/41 [==============================] - 1s 20ms/step - loss: 3.5061e-05\n",
      "Epoch 56/100\n",
      "41/41 [==============================] - 1s 20ms/step - loss: 4.0003e-05\n",
      "Epoch 57/100\n",
      "41/41 [==============================] - 1s 21ms/step - loss: 3.4538e-05\n",
      "Epoch 58/100\n",
      "41/41 [==============================] - 1s 20ms/step - loss: 3.4508e-05\n",
      "Epoch 59/100\n",
      "41/41 [==============================] - 1s 20ms/step - loss: 3.5622e-05\n",
      "Epoch 60/100\n",
      "41/41 [==============================] - 1s 21ms/step - loss: 3.5168e-05\n",
      "Epoch 61/100\n",
      "41/41 [==============================] - 1s 20ms/step - loss: 3.4295e-05\n",
      "Epoch 62/100\n",
      "41/41 [==============================] - 1s 21ms/step - loss: 3.6065e-05\n",
      "Epoch 63/100\n",
      "41/41 [==============================] - 1s 21ms/step - loss: 3.7087e-05\n",
      "Epoch 64/100\n",
      "41/41 [==============================] - 1s 21ms/step - loss: 3.6681e-05\n",
      "Epoch 65/100\n",
      "41/41 [==============================] - 1s 21ms/step - loss: 3.9006e-05\n",
      "Epoch 66/100\n",
      "41/41 [==============================] - 1s 21ms/step - loss: 3.2081e-05\n",
      "Epoch 67/100\n",
      "41/41 [==============================] - 1s 22ms/step - loss: 3.6891e-05\n",
      "Epoch 68/100\n",
      "41/41 [==============================] - 1s 21ms/step - loss: 3.8055e-05\n",
      "Epoch 69/100\n",
      "41/41 [==============================] - 1s 20ms/step - loss: 3.3142e-05\n",
      "Epoch 70/100\n",
      "41/41 [==============================] - 1s 22ms/step - loss: 3.2788e-05\n",
      "Epoch 71/100\n",
      "41/41 [==============================] - 1s 20ms/step - loss: 3.6634e-05\n",
      "Epoch 72/100\n",
      "41/41 [==============================] - 1s 20ms/step - loss: 3.1177e-05\n",
      "Epoch 73/100\n",
      "41/41 [==============================] - 1s 21ms/step - loss: 3.2793e-05\n",
      "Epoch 74/100\n",
      "41/41 [==============================] - 1s 20ms/step - loss: 3.8103e-05\n",
      "Epoch 75/100\n",
      "41/41 [==============================] - 1s 21ms/step - loss: 3.6296e-05\n",
      "Epoch 76/100\n",
      "41/41 [==============================] - 1s 21ms/step - loss: 3.1311e-05\n",
      "Epoch 77/100\n",
      "41/41 [==============================] - 1s 21ms/step - loss: 3.2336e-05\n",
      "Epoch 78/100\n",
      "41/41 [==============================] - 1s 20ms/step - loss: 3.0912e-05\n",
      "Epoch 79/100\n",
      "41/41 [==============================] - 1s 21ms/step - loss: 3.4319e-05\n",
      "Epoch 80/100\n",
      "41/41 [==============================] - 1s 21ms/step - loss: 3.1876e-05\n",
      "Epoch 81/100\n",
      "41/41 [==============================] - 1s 20ms/step - loss: 3.1692e-05\n",
      "Epoch 82/100\n",
      "41/41 [==============================] - 1s 20ms/step - loss: 2.8270e-05\n",
      "Epoch 83/100\n",
      "41/41 [==============================] - 1s 20ms/step - loss: 2.7546e-05\n",
      "Epoch 84/100\n",
      "41/41 [==============================] - 1s 20ms/step - loss: 2.7940e-05\n",
      "Epoch 85/100\n",
      "41/41 [==============================] - 1s 21ms/step - loss: 3.0425e-05\n",
      "Epoch 86/100\n",
      "41/41 [==============================] - 1s 22ms/step - loss: 3.1950e-05\n",
      "Epoch 87/100\n",
      "41/41 [==============================] - 1s 20ms/step - loss: 2.9993e-05\n",
      "Epoch 88/100\n",
      "41/41 [==============================] - 1s 21ms/step - loss: 2.9050e-05\n",
      "Epoch 89/100\n",
      "41/41 [==============================] - 1s 21ms/step - loss: 2.9536e-05\n",
      "Epoch 90/100\n",
      "41/41 [==============================] - 1s 21ms/step - loss: 3.2481e-05\n",
      "Epoch 91/100\n",
      "41/41 [==============================] - 1s 20ms/step - loss: 2.9566e-05\n",
      "Epoch 92/100\n",
      "41/41 [==============================] - 1s 21ms/step - loss: 2.6356e-05\n",
      "Epoch 93/100\n",
      "41/41 [==============================] - 1s 20ms/step - loss: 2.8403e-05\n",
      "Epoch 94/100\n",
      "41/41 [==============================] - 1s 22ms/step - loss: 3.3595e-05\n",
      "Epoch 95/100\n",
      "41/41 [==============================] - 1s 22ms/step - loss: 2.6847e-05\n",
      "Epoch 96/100\n",
      "41/41 [==============================] - 1s 20ms/step - loss: 2.8325e-05\n",
      "Epoch 97/100\n",
      "41/41 [==============================] - 1s 20ms/step - loss: 2.8176e-05\n",
      "Epoch 98/100\n",
      "41/41 [==============================] - 1s 21ms/step - loss: 2.8157e-05\n",
      "Epoch 99/100\n",
      "41/41 [==============================] - 1s 21ms/step - loss: 3.0652e-05\n",
      "Epoch 100/100\n",
      "41/41 [==============================] - 1s 21ms/step - loss: 2.6086e-05\n"
     ]
    },
    {
     "data": {
      "text/plain": [
       "<keras.src.callbacks.History at 0x1684c11cf10>"
      ]
     },
     "execution_count": 116,
     "metadata": {},
     "output_type": "execute_result"
    }
   ],
   "source": [
    "model.fit(X_train, y_train, epochs=100, batch_size=32)\n"
   ]
  },
  {
   "cell_type": "code",
   "execution_count": 117,
   "metadata": {},
   "outputs": [
    {
     "name": "stdout",
     "output_type": "stream",
     "text": [
      "11/11 [==============================] - 1s 8ms/step\n",
      "Mean Squared Error: 17.72893441717351\n",
      "Mean Absolute Error: 2.8596009070720148\n",
      "R^2 Score: 0.9819669526914027\n"
     ]
    }
   ],
   "source": [
    "from sklearn.metrics import mean_squared_error\n",
    "from sklearn.metrics import mean_absolute_error\n",
    "from sklearn.metrics import r2_score\n",
    "\n",
    "test_predicted = model.predict(X_test)\n",
    "test_predicted = scaler.inverse_transform(test_predicted)\n",
    "real_stock_price = scaler.inverse_transform(y_test.reshape(-1, 1))\n",
    "\n",
    "real_stock_price = real_stock_price[:-1, 0]\n",
    "test_predicted = test_predicted[1:, 0]\n",
    "mse = mean_squared_error(real_stock_price, test_predicted)\n",
    "mae = mean_absolute_error(real_stock_price, test_predicted)\n",
    "r2 = r2_score(real_stock_price, test_predicted)\n",
    "\n",
    "print('Mean Squared Error:', mse)\n",
    "print('Mean Absolute Error:', mae)\n",
    "print('R^2 Score:', r2)"
   ]
  },
  {
   "cell_type": "code",
   "execution_count": 118,
   "metadata": {},
   "outputs": [
    {
     "data": {
      "application/vnd.plotly.v1+json": {
       "config": {
        "plotlyServerURL": "https://plot.ly"
       },
       "data": [
        {
         "hovertemplate": "Line=Real Stock Price<br>Index=%{x}<br>Price=%{y}<extra></extra>",
         "legendgroup": "Real Stock Price",
         "line": {
          "color": "#636efa",
          "dash": "solid"
         },
         "marker": {
          "symbol": "circle"
         },
         "mode": "lines",
         "name": "Real Stock Price",
         "orientation": "v",
         "showlegend": true,
         "type": "scatter",
         "x": [
          "2023-06-13T00:00:00",
          "2023-06-14T00:00:00",
          "2023-06-15T00:00:00",
          "2023-06-16T00:00:00",
          "2023-06-20T00:00:00",
          "2023-06-21T00:00:00",
          "2023-06-22T00:00:00",
          "2023-06-23T00:00:00",
          "2023-06-26T00:00:00",
          "2023-06-27T00:00:00",
          "2023-06-28T00:00:00",
          "2023-06-29T00:00:00",
          "2023-06-30T00:00:00",
          "2023-07-03T00:00:00",
          "2023-07-05T00:00:00",
          "2023-07-06T00:00:00",
          "2023-07-07T00:00:00",
          "2023-07-10T00:00:00",
          "2023-07-11T00:00:00",
          "2023-07-12T00:00:00",
          "2023-07-13T00:00:00",
          "2023-07-14T00:00:00",
          "2023-07-17T00:00:00",
          "2023-07-18T00:00:00",
          "2023-07-19T00:00:00",
          "2023-07-20T00:00:00",
          "2023-07-21T00:00:00",
          "2023-07-24T00:00:00",
          "2023-07-25T00:00:00",
          "2023-07-26T00:00:00",
          "2023-07-27T00:00:00",
          "2023-07-28T00:00:00",
          "2023-07-31T00:00:00",
          "2023-08-01T00:00:00",
          "2023-08-02T00:00:00",
          "2023-08-03T00:00:00",
          "2023-08-04T00:00:00",
          "2023-08-07T00:00:00",
          "2023-08-08T00:00:00",
          "2023-08-09T00:00:00",
          "2023-08-10T00:00:00",
          "2023-08-11T00:00:00",
          "2023-08-14T00:00:00",
          "2023-08-15T00:00:00",
          "2023-08-16T00:00:00",
          "2023-08-17T00:00:00",
          "2023-08-18T00:00:00",
          "2023-08-21T00:00:00",
          "2023-08-22T00:00:00",
          "2023-08-23T00:00:00",
          "2023-08-24T00:00:00",
          "2023-08-25T00:00:00",
          "2023-08-28T00:00:00",
          "2023-08-29T00:00:00",
          "2023-08-30T00:00:00",
          "2023-08-31T00:00:00",
          "2023-09-01T00:00:00",
          "2023-09-05T00:00:00",
          "2023-09-06T00:00:00",
          "2023-09-07T00:00:00",
          "2023-09-08T00:00:00",
          "2023-09-11T00:00:00",
          "2023-09-12T00:00:00",
          "2023-09-13T00:00:00",
          "2023-09-14T00:00:00",
          "2023-09-15T00:00:00",
          "2023-09-18T00:00:00",
          "2023-09-19T00:00:00",
          "2023-09-20T00:00:00",
          "2023-09-21T00:00:00",
          "2023-09-22T00:00:00",
          "2023-09-25T00:00:00",
          "2023-09-26T00:00:00",
          "2023-09-27T00:00:00",
          "2023-09-28T00:00:00",
          "2023-09-29T00:00:00",
          "2023-10-02T00:00:00",
          "2023-10-03T00:00:00",
          "2023-10-04T00:00:00",
          "2023-10-05T00:00:00",
          "2023-10-06T00:00:00",
          "2023-10-09T00:00:00",
          "2023-10-10T00:00:00",
          "2023-10-11T00:00:00",
          "2023-10-12T00:00:00",
          "2023-10-13T00:00:00",
          "2023-10-16T00:00:00",
          "2023-10-17T00:00:00",
          "2023-10-18T00:00:00",
          "2023-10-19T00:00:00",
          "2023-10-20T00:00:00",
          "2023-10-23T00:00:00",
          "2023-10-24T00:00:00",
          "2023-10-25T00:00:00",
          "2023-10-26T00:00:00",
          "2023-10-27T00:00:00",
          "2023-10-30T00:00:00",
          "2023-10-31T00:00:00",
          "2023-11-01T00:00:00",
          "2023-11-02T00:00:00",
          "2023-11-03T00:00:00",
          "2023-11-06T00:00:00",
          "2023-11-07T00:00:00",
          "2023-11-08T00:00:00",
          "2023-11-09T00:00:00",
          "2023-11-10T00:00:00",
          "2023-11-13T00:00:00",
          "2023-11-14T00:00:00",
          "2023-11-15T00:00:00",
          "2023-11-16T00:00:00",
          "2023-11-17T00:00:00",
          "2023-11-20T00:00:00",
          "2023-11-21T00:00:00",
          "2023-11-22T00:00:00",
          "2023-11-24T00:00:00",
          "2023-11-27T00:00:00",
          "2023-11-28T00:00:00",
          "2023-11-29T00:00:00",
          "2023-11-30T00:00:00",
          "2023-12-01T00:00:00",
          "2023-12-04T00:00:00",
          "2023-12-05T00:00:00",
          "2023-12-06T00:00:00",
          "2023-12-07T00:00:00",
          "2023-12-08T00:00:00",
          "2023-12-11T00:00:00",
          "2023-12-12T00:00:00",
          "2023-12-13T00:00:00",
          "2023-12-14T00:00:00",
          "2023-12-15T00:00:00",
          "2023-12-18T00:00:00",
          "2023-12-19T00:00:00",
          "2023-12-20T00:00:00",
          "2023-12-21T00:00:00",
          "2023-12-22T00:00:00",
          "2023-12-26T00:00:00",
          "2023-12-27T00:00:00",
          "2023-12-28T00:00:00",
          "2023-12-29T00:00:00",
          "2024-01-02T00:00:00",
          "2024-01-03T00:00:00",
          "2024-01-04T00:00:00",
          "2024-01-05T00:00:00",
          "2024-01-08T00:00:00",
          "2024-01-09T00:00:00",
          "2024-01-10T00:00:00",
          "2024-01-11T00:00:00",
          "2024-01-12T00:00:00",
          "2024-01-16T00:00:00",
          "2024-01-17T00:00:00",
          "2024-01-18T00:00:00",
          "2024-01-19T00:00:00",
          "2024-01-22T00:00:00",
          "2024-01-23T00:00:00",
          "2024-01-24T00:00:00",
          "2024-01-25T00:00:00",
          "2024-01-26T00:00:00",
          "2024-01-29T00:00:00",
          "2024-01-30T00:00:00",
          "2024-01-31T00:00:00",
          "2024-02-01T00:00:00",
          "2024-02-02T00:00:00",
          "2024-02-05T00:00:00",
          "2024-02-06T00:00:00",
          "2024-02-07T00:00:00",
          "2024-02-08T00:00:00",
          "2024-02-09T00:00:00",
          "2024-02-12T00:00:00",
          "2024-02-13T00:00:00",
          "2024-02-14T00:00:00",
          "2024-02-15T00:00:00",
          "2024-02-16T00:00:00",
          "2024-02-20T00:00:00",
          "2024-02-21T00:00:00",
          "2024-02-22T00:00:00",
          "2024-02-23T00:00:00",
          "2024-02-26T00:00:00",
          "2024-02-27T00:00:00",
          "2024-02-28T00:00:00",
          "2024-02-29T00:00:00",
          "2024-03-01T00:00:00",
          "2024-03-04T00:00:00",
          "2024-03-05T00:00:00",
          "2024-03-06T00:00:00",
          "2024-03-07T00:00:00",
          "2024-03-08T00:00:00",
          "2024-03-11T00:00:00",
          "2024-03-12T00:00:00",
          "2024-03-13T00:00:00",
          "2024-03-14T00:00:00",
          "2024-03-15T00:00:00",
          "2024-03-18T00:00:00",
          "2024-03-19T00:00:00",
          "2024-03-20T00:00:00",
          "2024-03-21T00:00:00",
          "2024-03-22T00:00:00",
          "2024-03-25T00:00:00",
          "2024-03-26T00:00:00",
          "2024-03-27T00:00:00",
          "2024-03-28T00:00:00",
          "2024-04-01T00:00:00",
          "2024-04-02T00:00:00",
          "2024-04-03T00:00:00",
          "2024-04-04T00:00:00",
          "2024-04-05T00:00:00",
          "2024-04-08T00:00:00",
          "2024-04-09T00:00:00",
          "2024-04-10T00:00:00",
          "2024-04-11T00:00:00",
          "2024-04-12T00:00:00",
          "2024-04-15T00:00:00",
          "2024-04-16T00:00:00",
          "2024-04-17T00:00:00",
          "2024-04-18T00:00:00",
          "2024-04-19T00:00:00",
          "2024-04-22T00:00:00",
          "2024-04-23T00:00:00",
          "2024-04-24T00:00:00",
          "2024-04-25T00:00:00",
          "2024-04-26T00:00:00",
          "2024-04-29T00:00:00",
          "2024-04-30T00:00:00",
          "2024-05-01T00:00:00",
          "2024-05-02T00:00:00",
          "2024-05-03T00:00:00",
          "2024-05-06T00:00:00",
          "2024-05-07T00:00:00",
          "2024-05-08T00:00:00",
          "2024-05-09T00:00:00",
          "2024-05-10T00:00:00",
          "2024-05-13T00:00:00",
          "2024-05-14T00:00:00",
          "2024-05-15T00:00:00",
          "2024-05-16T00:00:00",
          "2024-05-17T00:00:00",
          "2024-05-20T00:00:00",
          "2024-05-21T00:00:00",
          "2024-05-22T00:00:00",
          "2024-05-23T00:00:00",
          "2024-05-24T00:00:00",
          "2024-05-28T00:00:00",
          "2024-05-29T00:00:00",
          "2024-05-30T00:00:00",
          "2024-05-31T00:00:00",
          "2024-06-03T00:00:00",
          "2024-06-04T00:00:00",
          "2024-06-05T00:00:00",
          "2024-06-06T00:00:00",
          "2024-06-07T00:00:00",
          "2024-06-10T00:00:00",
          "2024-06-11T00:00:00",
          "2024-06-12T00:00:00",
          "2024-06-13T00:00:00",
          "2024-06-14T00:00:00",
          "2024-06-17T00:00:00",
          "2024-06-18T00:00:00",
          "2024-06-20T00:00:00",
          "2024-06-21T00:00:00",
          "2024-06-24T00:00:00",
          "2024-06-25T00:00:00",
          "2024-06-26T00:00:00",
          "2024-06-27T00:00:00",
          "2024-06-28T00:00:00",
          "2024-07-01T00:00:00",
          "2024-07-02T00:00:00",
          "2024-07-03T00:00:00",
          "2024-07-05T00:00:00",
          "2024-07-08T00:00:00",
          "2024-07-09T00:00:00",
          "2024-07-10T00:00:00",
          "2024-07-11T00:00:00",
          "2024-07-12T00:00:00",
          "2024-07-15T00:00:00",
          "2024-07-16T00:00:00",
          "2024-07-17T00:00:00",
          "2024-07-18T00:00:00",
          "2024-07-19T00:00:00",
          "2024-07-22T00:00:00",
          "2024-07-23T00:00:00",
          "2024-07-24T00:00:00",
          "2024-07-25T00:00:00",
          "2024-07-26T00:00:00",
          "2024-07-29T00:00:00",
          "2024-07-30T00:00:00",
          "2024-07-31T00:00:00",
          "2024-08-01T00:00:00",
          "2024-08-02T00:00:00",
          "2024-08-05T00:00:00",
          "2024-08-06T00:00:00",
          "2024-08-07T00:00:00",
          "2024-08-08T00:00:00",
          "2024-08-09T00:00:00",
          "2024-08-12T00:00:00",
          "2024-08-13T00:00:00",
          "2024-08-14T00:00:00",
          "2024-08-15T00:00:00",
          "2024-08-16T00:00:00",
          "2024-08-19T00:00:00",
          "2024-08-20T00:00:00",
          "2024-08-21T00:00:00",
          "2024-08-22T00:00:00",
          "2024-08-23T00:00:00",
          "2024-08-26T00:00:00",
          "2024-08-27T00:00:00",
          "2024-08-28T00:00:00",
          "2024-08-29T00:00:00",
          "2024-08-30T00:00:00",
          "2024-09-03T00:00:00",
          "2024-09-04T00:00:00",
          "2024-09-05T00:00:00",
          "2024-09-06T00:00:00",
          "2024-09-09T00:00:00",
          "2024-09-10T00:00:00",
          "2024-09-11T00:00:00",
          "2024-09-12T00:00:00",
          "2024-09-13T00:00:00",
          "2024-09-16T00:00:00",
          "2024-09-17T00:00:00",
          "2024-09-18T00:00:00",
          "2024-09-19T00:00:00",
          "2024-09-20T00:00:00",
          "2024-09-23T00:00:00",
          "2024-09-24T00:00:00",
          "2024-09-25T00:00:00",
          "2024-09-26T00:00:00",
          "2024-09-27T00:00:00",
          "2024-09-30T00:00:00"
         ],
         "xaxis": "x",
         "y": [
          39.48199844360352,
          41.02199935913086,
          42.99700164794922,
          42.65299987792969,
          42.69200134277344,
          43.80799865722656,
          43.04499816894531,
          43.025001525878906,
          42.20899963378906,
          40.63199996948242,
          41.8759994506836,
          41.117000579833984,
          40.821998596191406,
          42.30199813842773,
          42.41299819946289,
          42.31700134277344,
          42.10300064086914,
          42.50299835205078,
          42.18000030517578,
          42.40499877929688,
          43.902000427246094,
          45.97700119018555,
          45.46900177001953,
          46.46099853515625,
          47.49399948120117,
          47.07699966430664,
          45.520000457763665,
          44.30899810791016,
          44.61199951171875,
          45.67900085449219,
          45.45199966430664,
          45.900001525878906,
          46.75,
          46.729000091552734,
          46.50699996948242,
          44.26900100708008,
          44.51499938964844,
          44.68000030517578,
          45.41699981689453,
          44.66400146484375,
          42.55400085449218,
          42.38800048828125,
          40.85499954223633,
          43.75299835205078,
          43.93999862670898,
          43.48600006103516,
          43.34400177001953,
          43.29899978637695,
          46.96699905395508,
          45.667999267578125,
          47.11600112915038,
          47.16299819946289,
          46.01800155639648,
          46.834999084472656,
          48.78400039672852,
          49.26399993896485,
          49.35499954223633,
          48.50899887084961,
          48.54800033569336,
          47.06100082397461,
          46.24100112915039,
          45.571998596191406,
          45.178001403808594,
          44.869998931884766,
          45.48500061035156,
          45.58100128173828,
          43.900001525878906,
          43.96599960327149,
          43.52000045776367,
          42.23899841308594,
          41.016998291015625,
          41.61000061035156,
          42.22200012207031,
          41.9109992980957,
          42.46799850463867,
          43.0890007019043,
          43.499000549316406,
          44.78200149536132,
          43.516998291015625,
          44.04100036621094,
          44.6879997253418,
          45.762001037597656,
          45.27299880981445,
          45.79800033569336,
          46.805999755859375,
          46.94499969482422,
          45.46099853515625,
          46.095001220703125,
          43.9379997253418,
          42.19599914550781,
          42.10100173950195,
          41.387001037597656,
          42.97499847412109,
          43.66299819946289,
          41.77899932861328,
          40.32600021362304,
          40.5,
          41.1609992980957,
          40.77999877929688,
          42.32500076293945,
          43.50600051879883,
          45.005001068115234,
          45.7509994506836,
          45.95500183105469,
          46.57400131225586,
          46.95000076293945,
          48.334999084472656,
          48.619998931884766,
          49.65599822998047,
          48.88800048828125,
          49.47999954223633,
          49.29800033569336,
          50.40900039672852,
          49.94400024414063,
          48.71599960327149,
          47.7760009765625,
          48.242000579833984,
          47.82099914550781,
          48.13999938964844,
          46.77000045776367,
          46.76499938964844,
          45.5099983215332,
          46.56600189208984,
          45.50299835205078,
          46.59600067138672,
          47.50600051879883,
          46.62699890136718,
          47.65700149536133,
          48.0880012512207,
          48.34999847412109,
          48.88999938964844,
          50.07699966430664,
          49.604000091552734,
          48.11100006103516,
          48.9900016784668,
          48.83000183105469,
          49.27899932861328,
          49.41699981689453,
          49.52199935913086,
          49.52199935913086,
          48.167999267578125,
          47.56900024414063,
          47.99800109863281,
          49.09700012207031,
          52.25299835205078,
          53.13999938964844,
          54.34999847412109,
          54.821998596191406,
          54.70999908447265,
          56.38199996948242,
          56.053001403808594,
          57.10699844360352,
          59.49100112915039,
          59.65399932861328,
          59.87300109863281,
          61.36199951171875,
          61.617000579833984,
          61.03099822998047,
          62.46500015258789,
          62.77399826049805,
          61.527000427246094,
          63.027000427246094,
          66.16000366210938,
          69.33200073242188,
          68.2229995727539,
          70.0989990234375,
          69.64099884033203,
          72.13300323486328,
          72.24800109863281,
          72.12799835205078,
          73.9000015258789,
          72.65799713134766,
          72.61299896240234,
          69.4520034790039,
          67.47200012207031,
          78.53800201416016,
          78.81700134277344,
          79.09200286865234,
          78.70099639892578,
          77.66300201416016,
          79.11199951171875,
          82.27899932861328,
          85.23699951171875,
          85.96399688720703,
          88.69999694824219,
          92.66899871826172,
          87.52799987792969,
          85.77400207519531,
          91.91300201416016,
          90.88800048828124,
          87.94400024414062,
          87.83699798583984,
          88.45500183105469,
          89.39800262451172,
          90.37200164794922,
          91.43499755859376,
          94.28900146484376,
          95.0019989013672,
          92.56099700927734,
          90.25,
          90.3560028076172,
          90.36299896240234,
          89.4520034790039,
          88.96399688720703,
          85.90499877929688,
          88.00800323486328,
          87.13300323486328,
          85.35399627685547,
          87.03900146484375,
          90.61599731445312,
          88.18599700927734,
          86.0009994506836,
          87.41500091552734,
          84.03500366210938,
          84.6709976196289,
          76.19999694824219,
          79.51799774169922,
          82.4229965209961,
          79.677001953125,
          82.63200378417969,
          87.73500061035156,
          87.75700378417969,
          86.4020004272461,
          83.04100036621094,
          85.81700134277344,
          88.78900146484375,
          92.13999938964844,
          90.5540008544922,
          90.41200256347656,
          88.74700164794922,
          89.87799835205078,
          90.39900207519533,
          91.3560028076172,
          94.62999725341795,
          94.35900115966795,
          92.47899627685548,
          94.77999877929688,
          95.38600158691406,
          94.9499969482422,
          103.79900360107422,
          106.46900177001952,
          113.9010009765625,
          114.8249969482422,
          110.5,
          109.63300323486328,
          115,
          116.43699645996094,
          122.44000244140624,
          120.9980010986328,
          120.88800048828124,
          121.79000091552734,
          120.91000366210938,
          125.1999969482422,
          129.61000061035156,
          131.8800048828125,
          130.97999572753906,
          135.5800018310547,
          130.77999877929688,
          126.56999969482422,
          118.11000061035156,
          126.08999633789062,
          126.4000015258789,
          123.98999786376952,
          123.54000091552734,
          124.3000030517578,
          122.66999816894533,
          128.27999877929688,
          125.83000183105467,
          128.1999969482422,
          131.3800048828125,
          134.91000366210938,
          127.4000015258789,
          129.24000549316406,
          128.44000244140625,
          126.36000061035156,
          117.98999786376952,
          121.08999633789062,
          117.93000030517578,
          123.54000091552734,
          122.58999633789062,
          114.25,
          112.27999877929688,
          113.05999755859376,
          111.58999633789062,
          103.7300033569336,
          117.0199966430664,
          109.20999908447266,
          107.2699966430664,
          100.4499969482422,
          104.25,
          98.91000366210938,
          104.97000122070312,
          104.75,
          109.0199966430664,
          116.13999938964844,
          118.08000183105467,
          122.86000061035156,
          124.58000183105467,
          130,
          127.25,
          128.5,
          123.73999786376952,
          129.3699951171875,
          126.45999908447266,
          128.3000030517578,
          125.61000061035156,
          117.58999633789062,
          119.37000274658205,
          108,
          106.20999908447266,
          107.20999908447266,
          102.83000183105467,
          106.47000122070312,
          108.0999984741211,
          116.91000366210938,
          119.13999938964844,
          119.0999984741211,
          116.77999877929688,
          115.58999633789062,
          113.37000274658205,
          117.87000274658206,
          116,
          116.26000213623048,
          120.87000274658205,
          123.51000213623047,
          124.04000091552734,
          121.4000015258789
         ],
         "yaxis": "y"
        },
        {
         "hovertemplate": "Line=Predicted Stock Price<br>Index=%{x}<br>Price=%{y}<extra></extra>",
         "legendgroup": "Predicted Stock Price",
         "line": {
          "color": "#EF553B",
          "dash": "solid"
         },
         "marker": {
          "symbol": "circle"
         },
         "mode": "lines",
         "name": "Predicted Stock Price",
         "orientation": "v",
         "showlegend": true,
         "type": "scatter",
         "x": [
          "2023-06-13T00:00:00",
          "2023-06-14T00:00:00",
          "2023-06-15T00:00:00",
          "2023-06-16T00:00:00",
          "2023-06-20T00:00:00",
          "2023-06-21T00:00:00",
          "2023-06-22T00:00:00",
          "2023-06-23T00:00:00",
          "2023-06-26T00:00:00",
          "2023-06-27T00:00:00",
          "2023-06-28T00:00:00",
          "2023-06-29T00:00:00",
          "2023-06-30T00:00:00",
          "2023-07-03T00:00:00",
          "2023-07-05T00:00:00",
          "2023-07-06T00:00:00",
          "2023-07-07T00:00:00",
          "2023-07-10T00:00:00",
          "2023-07-11T00:00:00",
          "2023-07-12T00:00:00",
          "2023-07-13T00:00:00",
          "2023-07-14T00:00:00",
          "2023-07-17T00:00:00",
          "2023-07-18T00:00:00",
          "2023-07-19T00:00:00",
          "2023-07-20T00:00:00",
          "2023-07-21T00:00:00",
          "2023-07-24T00:00:00",
          "2023-07-25T00:00:00",
          "2023-07-26T00:00:00",
          "2023-07-27T00:00:00",
          "2023-07-28T00:00:00",
          "2023-07-31T00:00:00",
          "2023-08-01T00:00:00",
          "2023-08-02T00:00:00",
          "2023-08-03T00:00:00",
          "2023-08-04T00:00:00",
          "2023-08-07T00:00:00",
          "2023-08-08T00:00:00",
          "2023-08-09T00:00:00",
          "2023-08-10T00:00:00",
          "2023-08-11T00:00:00",
          "2023-08-14T00:00:00",
          "2023-08-15T00:00:00",
          "2023-08-16T00:00:00",
          "2023-08-17T00:00:00",
          "2023-08-18T00:00:00",
          "2023-08-21T00:00:00",
          "2023-08-22T00:00:00",
          "2023-08-23T00:00:00",
          "2023-08-24T00:00:00",
          "2023-08-25T00:00:00",
          "2023-08-28T00:00:00",
          "2023-08-29T00:00:00",
          "2023-08-30T00:00:00",
          "2023-08-31T00:00:00",
          "2023-09-01T00:00:00",
          "2023-09-05T00:00:00",
          "2023-09-06T00:00:00",
          "2023-09-07T00:00:00",
          "2023-09-08T00:00:00",
          "2023-09-11T00:00:00",
          "2023-09-12T00:00:00",
          "2023-09-13T00:00:00",
          "2023-09-14T00:00:00",
          "2023-09-15T00:00:00",
          "2023-09-18T00:00:00",
          "2023-09-19T00:00:00",
          "2023-09-20T00:00:00",
          "2023-09-21T00:00:00",
          "2023-09-22T00:00:00",
          "2023-09-25T00:00:00",
          "2023-09-26T00:00:00",
          "2023-09-27T00:00:00",
          "2023-09-28T00:00:00",
          "2023-09-29T00:00:00",
          "2023-10-02T00:00:00",
          "2023-10-03T00:00:00",
          "2023-10-04T00:00:00",
          "2023-10-05T00:00:00",
          "2023-10-06T00:00:00",
          "2023-10-09T00:00:00",
          "2023-10-10T00:00:00",
          "2023-10-11T00:00:00",
          "2023-10-12T00:00:00",
          "2023-10-13T00:00:00",
          "2023-10-16T00:00:00",
          "2023-10-17T00:00:00",
          "2023-10-18T00:00:00",
          "2023-10-19T00:00:00",
          "2023-10-20T00:00:00",
          "2023-10-23T00:00:00",
          "2023-10-24T00:00:00",
          "2023-10-25T00:00:00",
          "2023-10-26T00:00:00",
          "2023-10-27T00:00:00",
          "2023-10-30T00:00:00",
          "2023-10-31T00:00:00",
          "2023-11-01T00:00:00",
          "2023-11-02T00:00:00",
          "2023-11-03T00:00:00",
          "2023-11-06T00:00:00",
          "2023-11-07T00:00:00",
          "2023-11-08T00:00:00",
          "2023-11-09T00:00:00",
          "2023-11-10T00:00:00",
          "2023-11-13T00:00:00",
          "2023-11-14T00:00:00",
          "2023-11-15T00:00:00",
          "2023-11-16T00:00:00",
          "2023-11-17T00:00:00",
          "2023-11-20T00:00:00",
          "2023-11-21T00:00:00",
          "2023-11-22T00:00:00",
          "2023-11-24T00:00:00",
          "2023-11-27T00:00:00",
          "2023-11-28T00:00:00",
          "2023-11-29T00:00:00",
          "2023-11-30T00:00:00",
          "2023-12-01T00:00:00",
          "2023-12-04T00:00:00",
          "2023-12-05T00:00:00",
          "2023-12-06T00:00:00",
          "2023-12-07T00:00:00",
          "2023-12-08T00:00:00",
          "2023-12-11T00:00:00",
          "2023-12-12T00:00:00",
          "2023-12-13T00:00:00",
          "2023-12-14T00:00:00",
          "2023-12-15T00:00:00",
          "2023-12-18T00:00:00",
          "2023-12-19T00:00:00",
          "2023-12-20T00:00:00",
          "2023-12-21T00:00:00",
          "2023-12-22T00:00:00",
          "2023-12-26T00:00:00",
          "2023-12-27T00:00:00",
          "2023-12-28T00:00:00",
          "2023-12-29T00:00:00",
          "2024-01-02T00:00:00",
          "2024-01-03T00:00:00",
          "2024-01-04T00:00:00",
          "2024-01-05T00:00:00",
          "2024-01-08T00:00:00",
          "2024-01-09T00:00:00",
          "2024-01-10T00:00:00",
          "2024-01-11T00:00:00",
          "2024-01-12T00:00:00",
          "2024-01-16T00:00:00",
          "2024-01-17T00:00:00",
          "2024-01-18T00:00:00",
          "2024-01-19T00:00:00",
          "2024-01-22T00:00:00",
          "2024-01-23T00:00:00",
          "2024-01-24T00:00:00",
          "2024-01-25T00:00:00",
          "2024-01-26T00:00:00",
          "2024-01-29T00:00:00",
          "2024-01-30T00:00:00",
          "2024-01-31T00:00:00",
          "2024-02-01T00:00:00",
          "2024-02-02T00:00:00",
          "2024-02-05T00:00:00",
          "2024-02-06T00:00:00",
          "2024-02-07T00:00:00",
          "2024-02-08T00:00:00",
          "2024-02-09T00:00:00",
          "2024-02-12T00:00:00",
          "2024-02-13T00:00:00",
          "2024-02-14T00:00:00",
          "2024-02-15T00:00:00",
          "2024-02-16T00:00:00",
          "2024-02-20T00:00:00",
          "2024-02-21T00:00:00",
          "2024-02-22T00:00:00",
          "2024-02-23T00:00:00",
          "2024-02-26T00:00:00",
          "2024-02-27T00:00:00",
          "2024-02-28T00:00:00",
          "2024-02-29T00:00:00",
          "2024-03-01T00:00:00",
          "2024-03-04T00:00:00",
          "2024-03-05T00:00:00",
          "2024-03-06T00:00:00",
          "2024-03-07T00:00:00",
          "2024-03-08T00:00:00",
          "2024-03-11T00:00:00",
          "2024-03-12T00:00:00",
          "2024-03-13T00:00:00",
          "2024-03-14T00:00:00",
          "2024-03-15T00:00:00",
          "2024-03-18T00:00:00",
          "2024-03-19T00:00:00",
          "2024-03-20T00:00:00",
          "2024-03-21T00:00:00",
          "2024-03-22T00:00:00",
          "2024-03-25T00:00:00",
          "2024-03-26T00:00:00",
          "2024-03-27T00:00:00",
          "2024-03-28T00:00:00",
          "2024-04-01T00:00:00",
          "2024-04-02T00:00:00",
          "2024-04-03T00:00:00",
          "2024-04-04T00:00:00",
          "2024-04-05T00:00:00",
          "2024-04-08T00:00:00",
          "2024-04-09T00:00:00",
          "2024-04-10T00:00:00",
          "2024-04-11T00:00:00",
          "2024-04-12T00:00:00",
          "2024-04-15T00:00:00",
          "2024-04-16T00:00:00",
          "2024-04-17T00:00:00",
          "2024-04-18T00:00:00",
          "2024-04-19T00:00:00",
          "2024-04-22T00:00:00",
          "2024-04-23T00:00:00",
          "2024-04-24T00:00:00",
          "2024-04-25T00:00:00",
          "2024-04-26T00:00:00",
          "2024-04-29T00:00:00",
          "2024-04-30T00:00:00",
          "2024-05-01T00:00:00",
          "2024-05-02T00:00:00",
          "2024-05-03T00:00:00",
          "2024-05-06T00:00:00",
          "2024-05-07T00:00:00",
          "2024-05-08T00:00:00",
          "2024-05-09T00:00:00",
          "2024-05-10T00:00:00",
          "2024-05-13T00:00:00",
          "2024-05-14T00:00:00",
          "2024-05-15T00:00:00",
          "2024-05-16T00:00:00",
          "2024-05-17T00:00:00",
          "2024-05-20T00:00:00",
          "2024-05-21T00:00:00",
          "2024-05-22T00:00:00",
          "2024-05-23T00:00:00",
          "2024-05-24T00:00:00",
          "2024-05-28T00:00:00",
          "2024-05-29T00:00:00",
          "2024-05-30T00:00:00",
          "2024-05-31T00:00:00",
          "2024-06-03T00:00:00",
          "2024-06-04T00:00:00",
          "2024-06-05T00:00:00",
          "2024-06-06T00:00:00",
          "2024-06-07T00:00:00",
          "2024-06-10T00:00:00",
          "2024-06-11T00:00:00",
          "2024-06-12T00:00:00",
          "2024-06-13T00:00:00",
          "2024-06-14T00:00:00",
          "2024-06-17T00:00:00",
          "2024-06-18T00:00:00",
          "2024-06-20T00:00:00",
          "2024-06-21T00:00:00",
          "2024-06-24T00:00:00",
          "2024-06-25T00:00:00",
          "2024-06-26T00:00:00",
          "2024-06-27T00:00:00",
          "2024-06-28T00:00:00",
          "2024-07-01T00:00:00",
          "2024-07-02T00:00:00",
          "2024-07-03T00:00:00",
          "2024-07-05T00:00:00",
          "2024-07-08T00:00:00",
          "2024-07-09T00:00:00",
          "2024-07-10T00:00:00",
          "2024-07-11T00:00:00",
          "2024-07-12T00:00:00",
          "2024-07-15T00:00:00",
          "2024-07-16T00:00:00",
          "2024-07-17T00:00:00",
          "2024-07-18T00:00:00",
          "2024-07-19T00:00:00",
          "2024-07-22T00:00:00",
          "2024-07-23T00:00:00",
          "2024-07-24T00:00:00",
          "2024-07-25T00:00:00",
          "2024-07-26T00:00:00",
          "2024-07-29T00:00:00",
          "2024-07-30T00:00:00",
          "2024-07-31T00:00:00",
          "2024-08-01T00:00:00",
          "2024-08-02T00:00:00",
          "2024-08-05T00:00:00",
          "2024-08-06T00:00:00",
          "2024-08-07T00:00:00",
          "2024-08-08T00:00:00",
          "2024-08-09T00:00:00",
          "2024-08-12T00:00:00",
          "2024-08-13T00:00:00",
          "2024-08-14T00:00:00",
          "2024-08-15T00:00:00",
          "2024-08-16T00:00:00",
          "2024-08-19T00:00:00",
          "2024-08-20T00:00:00",
          "2024-08-21T00:00:00",
          "2024-08-22T00:00:00",
          "2024-08-23T00:00:00",
          "2024-08-26T00:00:00",
          "2024-08-27T00:00:00",
          "2024-08-28T00:00:00",
          "2024-08-29T00:00:00",
          "2024-08-30T00:00:00",
          "2024-09-03T00:00:00",
          "2024-09-04T00:00:00",
          "2024-09-05T00:00:00",
          "2024-09-06T00:00:00",
          "2024-09-09T00:00:00",
          "2024-09-10T00:00:00",
          "2024-09-11T00:00:00",
          "2024-09-12T00:00:00",
          "2024-09-13T00:00:00",
          "2024-09-16T00:00:00",
          "2024-09-17T00:00:00",
          "2024-09-18T00:00:00",
          "2024-09-19T00:00:00",
          "2024-09-20T00:00:00",
          "2024-09-23T00:00:00",
          "2024-09-24T00:00:00",
          "2024-09-25T00:00:00",
          "2024-09-26T00:00:00",
          "2024-09-27T00:00:00",
          "2024-09-30T00:00:00"
         ],
         "xaxis": "x",
         "y": [
          38.916481018066406,
          40.148590087890625,
          41.95302963256836,
          42.54094696044922,
          42.64822006225586,
          43.294395446777344,
          43.10509490966797,
          42.903751373291016,
          42.287715911865234,
          41.00356674194336,
          41.167781829833984,
          40.92721939086914,
          40.62532424926758,
          41.41793441772461,
          41.94384765625,
          42.083580017089844,
          41.96161651611328,
          42.12228775024414,
          42.01131820678711,
          42.07542419433594,
          43.05112838745117,
          44.85552215576172,
          45.35426330566406,
          46.024349212646484,
          46.9272346496582,
          47.00897979736328,
          45.927955627441406,
          44.57657241821289,
          44.17630386352539,
          44.790828704833984,
          45.02489471435547,
          45.379791259765625,
          46.07405090332031,
          46.36943054199219,
          46.29444885253906,
          44.79104232788086,
          44.18600082397461,
          44.13616943359375,
          44.66215133666992,
          44.48313903808594,
          43.027305603027344,
          42.203895568847656,
          40.991092681884766,
          42.277034759521484,
          43.22389602661133,
          43.32839584350586,
          43.19400405883789,
          43.0735969543457,
          45.32970428466797,
          45.67426300048828,
          46.52794647216797,
          46.913368225097656,
          46.255210876464844,
          46.37143325805664,
          47.719207763671875,
          48.68492126464844,
          49.07001495361328,
          48.577693939208984,
          48.28044128417969,
          47.199283599853516,
          46.16184997558594,
          45.33176040649414,
          44.79217529296875,
          44.440792083740234,
          44.73882293701172,
          45.016632080078125,
          44.08980941772461,
          43.64451599121094,
          43.24151611328125,
          42.30491256713867,
          41.13298034667969,
          41.01554870605469,
          41.48728561401367,
          41.58964920043945,
          41.96255874633789,
          42.54001235961914,
          43.05974578857422,
          44.06879806518555,
          43.726078033447266,
          43.7574577331543,
          44.191707611083984,
          45.078636169433594,
          45.166587829589844,
          45.43464279174805,
          46.17644500732422,
          46.5932502746582,
          45.7618293762207,
          45.6782341003418,
          44.3378791809082,
          42.582176208496094,
          41.77246856689453,
          41.12177276611328,
          41.89671325683594,
          42.836273193359375,
          42.098182678222656,
          40.729103088378906,
          40.200477600097656,
          40.4883918762207,
          40.4911003112793,
          41.44282531738281,
          42.68742370605469,
          44.179931640625,
          45.27602005004883,
          45.7772102355957,
          46.26605224609375,
          46.65520477294922,
          47.64915466308594,
          48.256221771240234,
          49.09115982055664,
          48.90355682373047,
          49.0667839050293,
          49.00819396972656,
          49.65800857543945,
          49.66159439086914,
          48.78572463989258,
          47.729644775390625,
          47.58657455444336,
          47.363834381103516,
          47.49618148803711,
          46.72481918334961,
          46.33909606933594,
          45.43817901611328,
          45.717899322509766,
          45.300045013427734,
          45.78342819213867,
          46.66659927368164,
          46.5153694152832,
          47.007076263427734,
          47.533626556396484,
          47.90882110595703,
          48.37650680541992,
          49.3202018737793,
          49.41242980957031,
          48.372230529785156,
          48.387447357177734,
          48.37995529174805,
          48.669105529785156,
          48.902618408203125,
          49.05408477783203,
          49.097103118896484,
          48.219146728515625,
          47.39076614379883,
          47.3433952331543,
          48.12687301635742,
          50.59480667114258,
          52.330387115478516,
          53.70578384399414,
          54.444522857666016,
          54.50910949707031,
          55.51102828979492,
          55.697052001953125,
          56.34553146362305,
          58.19429016113281,
          59.05743408203125,
          59.36376953125,
          60.36252212524414,
          60.89228439331055,
          60.5682373046875,
          61.296592712402344,
          61.81924819946289,
          61.08308792114258,
          61.699005126953125,
          64.2020263671875,
          67.49286651611328,
          67.84648132324219,
          68.9089126586914,
          68.85582733154297,
          70.4166259765625,
          71.06503295898438,
          71.01358795166016,
          72.12201690673828,
          71.59493255615234,
          71.170654296875,
          68.6958236694336,
          66.27297973632812,
          73.50138854980469,
          77.09321594238281,
          78.06717681884766,
          77.62635040283203,
          76.37352752685547,
          76.85091400146484,
          79.45858764648438,
          82.6500244140625,
          84.103271484375,
          86.29490661621094,
          89.86073303222656,
          86.67372131347656,
          83.5929946899414,
          87.32139587402344,
          88.12954711914062,
          85.75251007080078,
          84.63212585449219,
          84.85923767089844,
          85.80611419677734,
          86.92938995361328,
          88.08390045166016,
          90.60602569580078,
          91.87772369384766,
          90.01592254638672,
          87.27664184570312,
          86.46905517578125,
          86.45523834228516,
          85.90265655517578,
          85.40515899658203,
          82.97380065917969,
          83.82826232910156,
          83.7843017578125,
          82.43413543701172,
          83.30259704589844,
          86.59188842773438,
          85.88070678710938,
          83.60498046875,
          83.86227416992188,
          81.56759643554688,
          81.24333953857422,
          75.02128601074219,
          75.27165985107422,
          78.27295684814453,
          77.5965576171875,
          79.40420532226562,
          84.09915161132812,
          85.73796081542969,
          84.74380493164062,
          81.45060729980469,
          82.30518341064453,
          85.18836975097656,
          88.8338623046875,
          88.57875061035156,
          87.8631362915039,
          86.1291732788086,
          86.3396224975586,
          86.94113159179688,
          87.89212036132812,
          90.7434310913086,
          91.39200592041016,
          89.74729919433594,
          90.7881088256836,
          91.68452453613281,
          91.50076293945312,
          98.4222183227539,
          102.89234924316406,
          109.70236206054688,
          111.6769027709961,
          107.28135681152344,
          104.43599700927734,
          108.0940933227539,
          110.52794647216797,
          115.93534088134766,
          115.64910125732422,
          114.5191421508789,
          114.54846954345703,
          113.59158325195312,
          116.87767791748047,
          121.59562683105469,
          124.3262939453125,
          123.33758544921875,
          126.43241119384766,
          122.49234008789062,
          117.1941146850586,
          108.7435073852539,
          114.03158569335938,
          116.98568725585938,
          115.59814453125,
          114.6519775390625,
          115.20526885986328,
          114.10701751708984,
          118.76878356933594,
          117.98580169677734,
          119.3955307006836,
          122.47903442382812,
          126.1180419921875,
          119.72447204589844,
          119.12715148925781,
          118.66666412353516,
          116.8651351928711,
          109.31828308105469,
          110.33145141601562,
          108.94749450683594,
          113.77561950683594,
          114.72542572021484,
          107.51732635498047,
          103.82414245605469,
          104.23773956298828,
          103.88068389892578,
          97.62895965576172,
          107.15367126464844,
          104.35763549804688,
          101.2708511352539,
          94.9865951538086,
          96.56144714355469,
          93.60999298095703,
          97.8143539428711,
          99.53404998779297,
          103.41363525390625,
          110.45360565185547,
          113.67817687988281,
          117.65138244628906,
          119.30924987792969,
          123.49081420898438,
          121.25007629394531,
          120.73273468017578,
          116.06088256835938,
          119.5550308227539,
          118.20404815673828,
          119.11566162109375,
          116.9879379272461,
          109.37753295898438,
          109.1272201538086,
          100.46668243408203,
          97.03375244140625,
          98.1240463256836,
          95.88876342773438,
          98.64920806884766,
          101.50659942626953,
          109.88992309570312,
          114.13542938232422,
          114.26010131835938,
          111.37454986572266,
          109.08096313476562,
          106.56329345703125,
          109.8425521850586,
          109.48202514648438,
          109.3316421508789,
          113.2063980102539,
          116.53202056884766,
          117.36746215820312,
          114.64403533935547
         ],
         "yaxis": "y"
        }
       ],
       "layout": {
        "legend": {
         "title": {
          "text": "Line"
         },
         "tracegroupgap": 0
        },
        "template": {
         "data": {
          "bar": [
           {
            "error_x": {
             "color": "#2a3f5f"
            },
            "error_y": {
             "color": "#2a3f5f"
            },
            "marker": {
             "line": {
              "color": "#E5ECF6",
              "width": 0.5
             },
             "pattern": {
              "fillmode": "overlay",
              "size": 10,
              "solidity": 0.2
             }
            },
            "type": "bar"
           }
          ],
          "barpolar": [
           {
            "marker": {
             "line": {
              "color": "#E5ECF6",
              "width": 0.5
             },
             "pattern": {
              "fillmode": "overlay",
              "size": 10,
              "solidity": 0.2
             }
            },
            "type": "barpolar"
           }
          ],
          "carpet": [
           {
            "aaxis": {
             "endlinecolor": "#2a3f5f",
             "gridcolor": "white",
             "linecolor": "white",
             "minorgridcolor": "white",
             "startlinecolor": "#2a3f5f"
            },
            "baxis": {
             "endlinecolor": "#2a3f5f",
             "gridcolor": "white",
             "linecolor": "white",
             "minorgridcolor": "white",
             "startlinecolor": "#2a3f5f"
            },
            "type": "carpet"
           }
          ],
          "choropleth": [
           {
            "colorbar": {
             "outlinewidth": 0,
             "ticks": ""
            },
            "type": "choropleth"
           }
          ],
          "contour": [
           {
            "colorbar": {
             "outlinewidth": 0,
             "ticks": ""
            },
            "colorscale": [
             [
              0,
              "#0d0887"
             ],
             [
              0.1111111111111111,
              "#46039f"
             ],
             [
              0.2222222222222222,
              "#7201a8"
             ],
             [
              0.3333333333333333,
              "#9c179e"
             ],
             [
              0.4444444444444444,
              "#bd3786"
             ],
             [
              0.5555555555555556,
              "#d8576b"
             ],
             [
              0.6666666666666666,
              "#ed7953"
             ],
             [
              0.7777777777777778,
              "#fb9f3a"
             ],
             [
              0.8888888888888888,
              "#fdca26"
             ],
             [
              1,
              "#f0f921"
             ]
            ],
            "type": "contour"
           }
          ],
          "contourcarpet": [
           {
            "colorbar": {
             "outlinewidth": 0,
             "ticks": ""
            },
            "type": "contourcarpet"
           }
          ],
          "heatmap": [
           {
            "colorbar": {
             "outlinewidth": 0,
             "ticks": ""
            },
            "colorscale": [
             [
              0,
              "#0d0887"
             ],
             [
              0.1111111111111111,
              "#46039f"
             ],
             [
              0.2222222222222222,
              "#7201a8"
             ],
             [
              0.3333333333333333,
              "#9c179e"
             ],
             [
              0.4444444444444444,
              "#bd3786"
             ],
             [
              0.5555555555555556,
              "#d8576b"
             ],
             [
              0.6666666666666666,
              "#ed7953"
             ],
             [
              0.7777777777777778,
              "#fb9f3a"
             ],
             [
              0.8888888888888888,
              "#fdca26"
             ],
             [
              1,
              "#f0f921"
             ]
            ],
            "type": "heatmap"
           }
          ],
          "heatmapgl": [
           {
            "colorbar": {
             "outlinewidth": 0,
             "ticks": ""
            },
            "colorscale": [
             [
              0,
              "#0d0887"
             ],
             [
              0.1111111111111111,
              "#46039f"
             ],
             [
              0.2222222222222222,
              "#7201a8"
             ],
             [
              0.3333333333333333,
              "#9c179e"
             ],
             [
              0.4444444444444444,
              "#bd3786"
             ],
             [
              0.5555555555555556,
              "#d8576b"
             ],
             [
              0.6666666666666666,
              "#ed7953"
             ],
             [
              0.7777777777777778,
              "#fb9f3a"
             ],
             [
              0.8888888888888888,
              "#fdca26"
             ],
             [
              1,
              "#f0f921"
             ]
            ],
            "type": "heatmapgl"
           }
          ],
          "histogram": [
           {
            "marker": {
             "pattern": {
              "fillmode": "overlay",
              "size": 10,
              "solidity": 0.2
             }
            },
            "type": "histogram"
           }
          ],
          "histogram2d": [
           {
            "colorbar": {
             "outlinewidth": 0,
             "ticks": ""
            },
            "colorscale": [
             [
              0,
              "#0d0887"
             ],
             [
              0.1111111111111111,
              "#46039f"
             ],
             [
              0.2222222222222222,
              "#7201a8"
             ],
             [
              0.3333333333333333,
              "#9c179e"
             ],
             [
              0.4444444444444444,
              "#bd3786"
             ],
             [
              0.5555555555555556,
              "#d8576b"
             ],
             [
              0.6666666666666666,
              "#ed7953"
             ],
             [
              0.7777777777777778,
              "#fb9f3a"
             ],
             [
              0.8888888888888888,
              "#fdca26"
             ],
             [
              1,
              "#f0f921"
             ]
            ],
            "type": "histogram2d"
           }
          ],
          "histogram2dcontour": [
           {
            "colorbar": {
             "outlinewidth": 0,
             "ticks": ""
            },
            "colorscale": [
             [
              0,
              "#0d0887"
             ],
             [
              0.1111111111111111,
              "#46039f"
             ],
             [
              0.2222222222222222,
              "#7201a8"
             ],
             [
              0.3333333333333333,
              "#9c179e"
             ],
             [
              0.4444444444444444,
              "#bd3786"
             ],
             [
              0.5555555555555556,
              "#d8576b"
             ],
             [
              0.6666666666666666,
              "#ed7953"
             ],
             [
              0.7777777777777778,
              "#fb9f3a"
             ],
             [
              0.8888888888888888,
              "#fdca26"
             ],
             [
              1,
              "#f0f921"
             ]
            ],
            "type": "histogram2dcontour"
           }
          ],
          "mesh3d": [
           {
            "colorbar": {
             "outlinewidth": 0,
             "ticks": ""
            },
            "type": "mesh3d"
           }
          ],
          "parcoords": [
           {
            "line": {
             "colorbar": {
              "outlinewidth": 0,
              "ticks": ""
             }
            },
            "type": "parcoords"
           }
          ],
          "pie": [
           {
            "automargin": true,
            "type": "pie"
           }
          ],
          "scatter": [
           {
            "fillpattern": {
             "fillmode": "overlay",
             "size": 10,
             "solidity": 0.2
            },
            "type": "scatter"
           }
          ],
          "scatter3d": [
           {
            "line": {
             "colorbar": {
              "outlinewidth": 0,
              "ticks": ""
             }
            },
            "marker": {
             "colorbar": {
              "outlinewidth": 0,
              "ticks": ""
             }
            },
            "type": "scatter3d"
           }
          ],
          "scattercarpet": [
           {
            "marker": {
             "colorbar": {
              "outlinewidth": 0,
              "ticks": ""
             }
            },
            "type": "scattercarpet"
           }
          ],
          "scattergeo": [
           {
            "marker": {
             "colorbar": {
              "outlinewidth": 0,
              "ticks": ""
             }
            },
            "type": "scattergeo"
           }
          ],
          "scattergl": [
           {
            "marker": {
             "colorbar": {
              "outlinewidth": 0,
              "ticks": ""
             }
            },
            "type": "scattergl"
           }
          ],
          "scattermapbox": [
           {
            "marker": {
             "colorbar": {
              "outlinewidth": 0,
              "ticks": ""
             }
            },
            "type": "scattermapbox"
           }
          ],
          "scatterpolar": [
           {
            "marker": {
             "colorbar": {
              "outlinewidth": 0,
              "ticks": ""
             }
            },
            "type": "scatterpolar"
           }
          ],
          "scatterpolargl": [
           {
            "marker": {
             "colorbar": {
              "outlinewidth": 0,
              "ticks": ""
             }
            },
            "type": "scatterpolargl"
           }
          ],
          "scatterternary": [
           {
            "marker": {
             "colorbar": {
              "outlinewidth": 0,
              "ticks": ""
             }
            },
            "type": "scatterternary"
           }
          ],
          "surface": [
           {
            "colorbar": {
             "outlinewidth": 0,
             "ticks": ""
            },
            "colorscale": [
             [
              0,
              "#0d0887"
             ],
             [
              0.1111111111111111,
              "#46039f"
             ],
             [
              0.2222222222222222,
              "#7201a8"
             ],
             [
              0.3333333333333333,
              "#9c179e"
             ],
             [
              0.4444444444444444,
              "#bd3786"
             ],
             [
              0.5555555555555556,
              "#d8576b"
             ],
             [
              0.6666666666666666,
              "#ed7953"
             ],
             [
              0.7777777777777778,
              "#fb9f3a"
             ],
             [
              0.8888888888888888,
              "#fdca26"
             ],
             [
              1,
              "#f0f921"
             ]
            ],
            "type": "surface"
           }
          ],
          "table": [
           {
            "cells": {
             "fill": {
              "color": "#EBF0F8"
             },
             "line": {
              "color": "white"
             }
            },
            "header": {
             "fill": {
              "color": "#C8D4E3"
             },
             "line": {
              "color": "white"
             }
            },
            "type": "table"
           }
          ]
         },
         "layout": {
          "annotationdefaults": {
           "arrowcolor": "#2a3f5f",
           "arrowhead": 0,
           "arrowwidth": 1
          },
          "autotypenumbers": "strict",
          "coloraxis": {
           "colorbar": {
            "outlinewidth": 0,
            "ticks": ""
           }
          },
          "colorscale": {
           "diverging": [
            [
             0,
             "#8e0152"
            ],
            [
             0.1,
             "#c51b7d"
            ],
            [
             0.2,
             "#de77ae"
            ],
            [
             0.3,
             "#f1b6da"
            ],
            [
             0.4,
             "#fde0ef"
            ],
            [
             0.5,
             "#f7f7f7"
            ],
            [
             0.6,
             "#e6f5d0"
            ],
            [
             0.7,
             "#b8e186"
            ],
            [
             0.8,
             "#7fbc41"
            ],
            [
             0.9,
             "#4d9221"
            ],
            [
             1,
             "#276419"
            ]
           ],
           "sequential": [
            [
             0,
             "#0d0887"
            ],
            [
             0.1111111111111111,
             "#46039f"
            ],
            [
             0.2222222222222222,
             "#7201a8"
            ],
            [
             0.3333333333333333,
             "#9c179e"
            ],
            [
             0.4444444444444444,
             "#bd3786"
            ],
            [
             0.5555555555555556,
             "#d8576b"
            ],
            [
             0.6666666666666666,
             "#ed7953"
            ],
            [
             0.7777777777777778,
             "#fb9f3a"
            ],
            [
             0.8888888888888888,
             "#fdca26"
            ],
            [
             1,
             "#f0f921"
            ]
           ],
           "sequentialminus": [
            [
             0,
             "#0d0887"
            ],
            [
             0.1111111111111111,
             "#46039f"
            ],
            [
             0.2222222222222222,
             "#7201a8"
            ],
            [
             0.3333333333333333,
             "#9c179e"
            ],
            [
             0.4444444444444444,
             "#bd3786"
            ],
            [
             0.5555555555555556,
             "#d8576b"
            ],
            [
             0.6666666666666666,
             "#ed7953"
            ],
            [
             0.7777777777777778,
             "#fb9f3a"
            ],
            [
             0.8888888888888888,
             "#fdca26"
            ],
            [
             1,
             "#f0f921"
            ]
           ]
          },
          "colorway": [
           "#636efa",
           "#EF553B",
           "#00cc96",
           "#ab63fa",
           "#FFA15A",
           "#19d3f3",
           "#FF6692",
           "#B6E880",
           "#FF97FF",
           "#FECB52"
          ],
          "font": {
           "color": "#2a3f5f"
          },
          "geo": {
           "bgcolor": "white",
           "lakecolor": "white",
           "landcolor": "#E5ECF6",
           "showlakes": true,
           "showland": true,
           "subunitcolor": "white"
          },
          "hoverlabel": {
           "align": "left"
          },
          "hovermode": "closest",
          "mapbox": {
           "style": "light"
          },
          "paper_bgcolor": "white",
          "plot_bgcolor": "#E5ECF6",
          "polar": {
           "angularaxis": {
            "gridcolor": "white",
            "linecolor": "white",
            "ticks": ""
           },
           "bgcolor": "#E5ECF6",
           "radialaxis": {
            "gridcolor": "white",
            "linecolor": "white",
            "ticks": ""
           }
          },
          "scene": {
           "xaxis": {
            "backgroundcolor": "#E5ECF6",
            "gridcolor": "white",
            "gridwidth": 2,
            "linecolor": "white",
            "showbackground": true,
            "ticks": "",
            "zerolinecolor": "white"
           },
           "yaxis": {
            "backgroundcolor": "#E5ECF6",
            "gridcolor": "white",
            "gridwidth": 2,
            "linecolor": "white",
            "showbackground": true,
            "ticks": "",
            "zerolinecolor": "white"
           },
           "zaxis": {
            "backgroundcolor": "#E5ECF6",
            "gridcolor": "white",
            "gridwidth": 2,
            "linecolor": "white",
            "showbackground": true,
            "ticks": "",
            "zerolinecolor": "white"
           }
          },
          "shapedefaults": {
           "line": {
            "color": "#2a3f5f"
           }
          },
          "ternary": {
           "aaxis": {
            "gridcolor": "white",
            "linecolor": "white",
            "ticks": ""
           },
           "baxis": {
            "gridcolor": "white",
            "linecolor": "white",
            "ticks": ""
           },
           "bgcolor": "#E5ECF6",
           "caxis": {
            "gridcolor": "white",
            "linecolor": "white",
            "ticks": ""
           }
          },
          "title": {
           "x": 0.05
          },
          "xaxis": {
           "automargin": true,
           "gridcolor": "white",
           "linecolor": "white",
           "ticks": "",
           "title": {
            "standoff": 15
           },
           "zerolinecolor": "white",
           "zerolinewidth": 2
          },
          "yaxis": {
           "automargin": true,
           "gridcolor": "white",
           "linecolor": "white",
           "ticks": "",
           "title": {
            "standoff": 15
           },
           "zerolinecolor": "white",
           "zerolinewidth": 2
          }
         }
        },
        "title": {
         "text": "Real vs Predicted Stock Price"
        },
        "xaxis": {
         "anchor": "y",
         "domain": [
          0,
          1
         ],
         "title": {
          "text": "Index"
         }
        },
        "yaxis": {
         "anchor": "x",
         "domain": [
          0,
          1
         ],
         "title": {
          "text": "Price"
         }
        }
       }
      }
     },
     "metadata": {},
     "output_type": "display_data"
    }
   ],
   "source": [
    "import plotly.express as px\n",
    "\n",
    "data = pd.DataFrame({\n",
    "    'Index': dataset.index[-len(real_stock_price):],\n",
    "    'Real Stock Price': real_stock_price.flatten(),\n",
    "    'Predicted Stock Price': test_predicted.flatten()\n",
    "})\n",
    "\n",
    "data_melted = data.melt(id_vars=['Index'], value_vars=['Real Stock Price', 'Predicted Stock Price'], var_name='Line', value_name='Price')\n",
    "\n",
    "# Create the line plot\n",
    "fig = px.line(data_melted, x='Index', y='Price', color='Line', title='Real vs Predicted Stock Price')\n",
    "\n",
    "fig.show()"
   ]
  }
 ],
 "metadata": {
  "kernelspec": {
   "display_name": "base",
   "language": "python",
   "name": "python3"
  },
  "language_info": {
   "codemirror_mode": {
    "name": "ipython",
    "version": 3
   },
   "file_extension": ".py",
   "mimetype": "text/x-python",
   "name": "python",
   "nbconvert_exporter": "python",
   "pygments_lexer": "ipython3",
   "version": "3.9.13"
  }
 },
 "nbformat": 4,
 "nbformat_minor": 2
}
