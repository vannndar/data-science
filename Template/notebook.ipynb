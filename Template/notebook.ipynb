{
 "cells": [
  {
   "cell_type": "markdown",
   "metadata": {},
   "source": [
    "# [Judul]"
   ]
  },
  {
   "cell_type": "markdown",
   "metadata": {},
   "source": [
    "[Deskripsi]\n",
    "\n",
    "EXP : At this notebook, we will analyze the Nvidia stock data. We will use the data from kaggle dataset [Nvidia Stock Data](https://www.kaggle.com/datasets/muhammaddawood42/nvidia-stock-data) to analyze the stock data. We will use the data all data from 2018 - 2024 to analyze the stock data."
   ]
  },
  {
   "cell_type": "markdown",
   "metadata": {},
   "source": [
    "# Download and Import Dataset"
   ]
  },
  {
   "cell_type": "markdown",
   "metadata": {},
   "source": [
    "We will download the dataset from kaggle and import the dataset to the notebook using kagglehub."
   ]
  },
  {
   "cell_type": "code",
   "execution_count": null,
   "metadata": {},
   "outputs": [
    {
     "name": "stdout",
     "output_type": "stream",
     "text": [
      "Data moved to e:\\Cool Yeah\\data-science\\Template\\data\n"
     ]
    }
   ],
   "source": [
    "import kagglehub\n",
    "import os\n",
    "import shutil\n",
    "\n",
    "path = kagglehub.dataset_download(\"sumanthvrao/daily-climate-time-series-data\", force_download=True)\n",
    "\n",
    "final_path = os.path.join(os.getcwd(), \"data\")\n",
    "os.makedirs(final_path, exist_ok=True)\n",
    "\n",
    "if path != final_path:\n",
    "    for file_name in os.listdir(path):\n",
    "        source = os.path.join(path, file_name)\n",
    "        destination = os.path.join(final_path, file_name)\n",
    "        shutil.move(source, destination)\n",
    "\n",
    "print(f\"Data moved to {final_path}\")\n"
   ]
  },
  {
   "cell_type": "code",
   "execution_count": null,
   "metadata": {},
   "outputs": [],
   "source": [
    "import pandas as pd\n",
    "\n",
    "dataset = pd.read_csv(\"data/.....csv\")"
   ]
  },
  {
   "cell_type": "code",
   "execution_count": null,
   "metadata": {},
   "outputs": [],
   "source": [
    "dataset.head()"
   ]
  }
 ],
 "metadata": {
  "kernelspec": {
   "display_name": "base",
   "language": "python",
   "name": "python3"
  },
  "language_info": {
   "codemirror_mode": {
    "name": "ipython",
    "version": 3
   },
   "file_extension": ".py",
   "mimetype": "text/x-python",
   "name": "python",
   "nbconvert_exporter": "python",
   "pygments_lexer": "ipython3",
   "version": "3.9.13"
  }
 },
 "nbformat": 4,
 "nbformat_minor": 2
}
